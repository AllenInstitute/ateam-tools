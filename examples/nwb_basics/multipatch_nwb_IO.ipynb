{
 "cells": [
  {
   "cell_type": "markdown",
   "metadata": {},
   "source": [
    "# This notebook is for IO of .nwb files obtained from the multipatch rig, using MIES.\n",
    "1. --It makes use of Luke Campagnola's \"neuroanalysis\" package, because dealing with multipatch/multielectrode .nwb. files can be trickier.  \n",
    "--You will need to get this package: https://github.com/aiephys/neuroanalysis"
   ]
  },
  {
   "cell_type": "markdown",
   "metadata": {},
   "source": [
    "2. I (Soo) work with two files: the actual .nwb file, and a .json file describing the sweeps, electrodes, etc.\n",
    "The \"50\" indicates that the .nwb file's sampling rate is 50KHz. \n",
    "\n",
    "\"D:/temp 50KHz/2019_02_21_115708_50_compressed.nwb\"   \n",
    "\"2019_02_21_115708_50.json file\""
   ]
  },
  {
   "cell_type": "markdown",
   "metadata": {},
   "source": [
    "# Raw data extraction"
   ]
  },
  {
   "cell_type": "code",
   "execution_count": null,
   "metadata": {},
   "outputs": [],
   "source": [
    "# For files from MIES-multipatch, use Luke's codes to process the .nwb file\n",
    "# I think? due to some issues with alignment of metadata and data?"
   ]
  },
  {
   "cell_type": "code",
   "execution_count": 12,
   "metadata": {},
   "outputs": [],
   "source": [
    "from neuroanalysis.miesnwb import MiesNwb\n",
    "\n",
    "myfile = MiesNwb(\"D:/temp 50KHz/2019_02_21_115708_50_compressed.nwb\")"
   ]
  },
  {
   "cell_type": "code",
   "execution_count": 30,
   "metadata": {},
   "outputs": [],
   "source": [
    "# the nwb file will have lots of sweeps (experiments), many electrodes, and primary output (ephys hardware-specific setting)\n",
    "# this information is in the .json file associated with the .nwb file\n",
    "\n",
    "# pick sweep number, electrode id, the recording output\n",
    "sweep_id = 80 \n",
    "el_id_intra = 5\n",
    "el_id_extraclose = 7\n",
    "\n",
    "intra_trace = myfile.contents[sweep_id][el_id_intra]['primary']\n",
    "ex_trace = myfile.contents[sweep_id][el_id_extraclose]['primary']"
   ]
  },
  {
   "cell_type": "code",
   "execution_count": 31,
   "metadata": {},
   "outputs": [
    {
     "data": {
      "text/plain": [
       "array([-0.0635375 , -0.06353125, -0.063525  , ..., -0.066025  ,\n",
       "       -0.0660125 , -0.06600625], dtype=float32)"
      ]
     },
     "execution_count": 31,
     "metadata": {},
     "output_type": "execute_result"
    }
   ],
   "source": [
    "# raw data, in uV\n",
    "intra_trace.data"
   ]
  },
  {
   "cell_type": "code",
   "execution_count": 38,
   "metadata": {},
   "outputs": [
    {
     "data": {
      "text/plain": [
       "array([0.000000e+00, 2.000000e-05, 4.000000e-05, ..., 1.499994e+01,\n",
       "       1.499996e+01, 1.499998e+01])"
      ]
     },
     "execution_count": 38,
     "metadata": {},
     "output_type": "execute_result"
    }
   ],
   "source": [
    "# time, in seconds\n",
    "intra_trace.time_values"
   ]
  },
  {
   "cell_type": "code",
   "execution_count": 50,
   "metadata": {},
   "outputs": [
    {
     "data": {
      "image/png": "[encoded data removed]",
      "text/plain": [
       "<Figure size 432x288 with 1 Axes>"
      ]
     },
     "metadata": {
      "needs_background": "light"
     },
     "output_type": "display_data"
    }
   ],
   "source": [
    "# simple plot of spiking electrode\n",
    "\n",
    "import matplotlib.pyplot as plt\n",
    "in_x=intra_trace.time_values\n",
    "in_y=(intra_trace.data)*1000\n",
    "plt.plot(in_x,in_y)\n",
    "plt.xlabel(\"Time (s)\") \n",
    "plt.ylabel(\"Membrane potential (mV)\")\n",
    "plt.show()"
   ]
  },
  {
   "cell_type": "code",
   "execution_count": 53,
   "metadata": {},
   "outputs": [
    {
     "data": {
      "image/png": "[encoded data removed]",
      "text/plain": [
       "<Figure size 432x288 with 1 Axes>"
      ]
     },
     "metadata": {
      "needs_background": "light"
     },
     "output_type": "display_data"
    }
   ],
   "source": [
    "# simple plot of extracellular recording electrode\n",
    "\n",
    "ex_x=ex_trace.time_values\n",
    "ex_y=(ex_trace.data)*1000\n",
    "plt.plot(ex_x,ex_y)\n",
    "plt.xlabel(\"Time (s)\") \n",
    "plt.ylabel(\"Membrane potential (mV)\")\n",
    "plt.show()\n"
   ]
  },
  {
   "cell_type": "markdown",
   "metadata": {},
   "source": [
    "# Getting information about stimulus"
   ]
  },
  {
   "cell_type": "code",
   "execution_count": null,
   "metadata": {},
   "outputs": [],
   "source": [
    "# This is not directly looking at the data--it is actually looking directly into the details of the stimulus given"
   ]
  },
  {
   "cell_type": "code",
   "execution_count": 19,
   "metadata": {},
   "outputs": [
    {
     "data": {
      "text/plain": [
       "u'TPsupraSpikeCell_DA_0'"
      ]
     },
     "execution_count": 19,
     "metadata": {},
     "output_type": "execute_result"
    }
   ],
   "source": [
    "# get stimset name\n",
    "myfile.contents[sweep_id][el_id].stimulus.description"
   ]
  },
  {
   "cell_type": "code",
   "execution_count": null,
   "metadata": {},
   "outputs": [],
   "source": [
    "import matplotlib.image as mpimg\n",
    "stim_in_image = mpimg.imread(\"G:/20190229_coding_mtg/Stimset_intracellular.PNG\")\n",
    "plt.figure(figsize=(200,100))\n",
    "plt.imshow(stim_in_image)\n",
    "plt.show()"
   ]
  },
  {
   "cell_type": "code",
   "execution_count": 24,
   "metadata": {},
   "outputs": [
    {
     "data": {
      "text/plain": [
       "<SquarePulse \"Epoch 3\" 0x32d1add8>"
      ]
     },
     "execution_count": 24,
     "metadata": {},
     "output_type": "execute_result"
    }
   ],
   "source": [
    "# get stimset amplitude\n",
    "# you need to specify \"epoch\" you're interested in (this is specific to how stimuluses are designed in MIES)\n",
    "# \n",
    "\n",
    "epoch = 4\n",
    "myfile.contents[sweep_id][el_id].stimulus.items[4].amplitude * (1e12)"
   ]
  },
  {
   "cell_type": "code",
   "execution_count": 27,
   "metadata": {},
   "outputs": [
    {
     "ename": "AttributeError",
     "evalue": "'SquarePulse' object has no attribute 'frequency'",
     "output_type": "error",
     "traceback": [
      "\u001b[1;31m\u001b[0m",
      "\u001b[1;31mAttributeError\u001b[0mTraceback (most recent call last)",
      "\u001b[1;32m<ipython-input-27-37fc5d8a7f31>\u001b[0m in \u001b[0;36m<module>\u001b[1;34m()\u001b[0m\n\u001b[0;32m      2\u001b[0m \u001b[1;31m# note that a square pulse will give you an error message because it has no frequency\u001b[0m\u001b[1;33m\u001b[0m\u001b[1;33m\u001b[0m\u001b[0m\n\u001b[0;32m      3\u001b[0m \u001b[1;33m\u001b[0m\u001b[0m\n\u001b[1;32m----> 4\u001b[1;33m \u001b[0mmyfile\u001b[0m\u001b[1;33m.\u001b[0m\u001b[0mcontents\u001b[0m\u001b[1;33m[\u001b[0m\u001b[0msweep_id\u001b[0m\u001b[1;33m]\u001b[0m\u001b[1;33m[\u001b[0m\u001b[0mel_id\u001b[0m\u001b[1;33m]\u001b[0m\u001b[1;33m.\u001b[0m\u001b[0mstimulus\u001b[0m\u001b[1;33m.\u001b[0m\u001b[0mitems\u001b[0m\u001b[1;33m[\u001b[0m\u001b[0mepoch\u001b[0m\u001b[1;33m]\u001b[0m\u001b[1;33m.\u001b[0m\u001b[0mfrequency\u001b[0m\u001b[1;33m\u001b[0m\u001b[0m\n\u001b[0m",
      "\u001b[1;31mAttributeError\u001b[0m: 'SquarePulse' object has no attribute 'frequency'"
     ]
    }
   ],
   "source": [
    "# get stimset frequency\n",
    "# note that a square pulse will give you an error message because it has no frequency\n",
    "\n",
    "myfile.contents[sweep_id][el_id].stimulus.items[epoch].frequency"
   ]
  },
  {
   "cell_type": "code",
   "execution_count": 28,
   "metadata": {},
   "outputs": [
    {
     "data": {
      "text/plain": [
       "3.0"
      ]
     },
     "execution_count": 28,
     "metadata": {},
     "output_type": "execute_result"
    }
   ],
   "source": [
    "# get start time of the particular epoch, in seconds\n",
    "myfile.contents[sweep_id][el_id].stimulus.items[epoch].global_start_time"
   ]
  }
 ],
 "metadata": {
  "kernelspec": {
   "display_name": "Python 2",
   "language": "python",
   "name": "python2"
  },
  "language_info": {
   "codemirror_mode": {
    "name": "ipython",
    "version": 2
   },
   "file_extension": ".py",
   "mimetype": "text/x-python",
   "name": "python",
   "nbconvert_exporter": "python",
   "pygments_lexer": "ipython2",
   "version": "2.7.14"
  }
 },
 "nbformat": 4,
 "nbformat_minor": 2
}
