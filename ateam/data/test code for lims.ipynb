{
 "cells": [
  {
   "cell_type": "code",
   "execution_count": 1,
   "metadata": {},
   "outputs": [],
   "source": [
    "\n",
    "import lims as ls"
   ]
  },
  {
   "cell_type": "code",
   "execution_count": 2,
   "metadata": {},
   "outputs": [
    {
     "data": {
      "text/plain": [
       "[4, 5, 7, 8, 12, 13, 14, 15, 16]"
      ]
     },
     "execution_count": 2,
     "metadata": {},
     "output_type": "execute_result"
    }
   ],
   "source": [
    "# use the method\n",
    "\n",
    "# instantiate the method\n",
    "lr = ls.LimsReader()\n",
    "\n",
    "lr.get_sweeps('760398902', \"Long Square\")"
   ]
  },
  {
   "cell_type": "code",
   "execution_count": 7,
   "metadata": {},
   "outputs": [
    {
     "data": {
      "text/html": [
       "<div>\n",
       "<style scoped>\n",
       "    .dataframe tbody tr th:only-of-type {\n",
       "        vertical-align: middle;\n",
       "    }\n",
       "\n",
       "    .dataframe tbody tr th {\n",
       "        vertical-align: top;\n",
       "    }\n",
       "\n",
       "    .dataframe thead th {\n",
       "        text-align: right;\n",
       "    }\n",
       "</style>\n",
       "<table border=\"1\" class=\"dataframe\">\n",
       "  <thead>\n",
       "    <tr style=\"text-align: right;\">\n",
       "      <th></th>\n",
       "      <th>workflow_state</th>\n",
       "      <th>name</th>\n",
       "      <th>description</th>\n",
       "    </tr>\n",
       "    <tr>\n",
       "      <th>sweep_number</th>\n",
       "      <th></th>\n",
       "      <th></th>\n",
       "      <th></th>\n",
       "    </tr>\n",
       "  </thead>\n",
       "  <tbody>\n",
       "    <tr>\n",
       "      <th>4</th>\n",
       "      <td>auto_failed</td>\n",
       "      <td>Long Square</td>\n",
       "      <td>X1PS_SubThresh[0]</td>\n",
       "    </tr>\n",
       "    <tr>\n",
       "      <th>5</th>\n",
       "      <td>auto_failed</td>\n",
       "      <td>Long Square</td>\n",
       "      <td>X1PS_SubThresh[1]</td>\n",
       "    </tr>\n",
       "    <tr>\n",
       "      <th>7</th>\n",
       "      <td>auto_passed</td>\n",
       "      <td>Long Square</td>\n",
       "      <td>X1PS_SubThresh[3]</td>\n",
       "    </tr>\n",
       "    <tr>\n",
       "      <th>8</th>\n",
       "      <td>auto_passed</td>\n",
       "      <td>Long Square</td>\n",
       "      <td>X1PS_SubThresh[4]</td>\n",
       "    </tr>\n",
       "    <tr>\n",
       "      <th>12</th>\n",
       "      <td>auto_passed</td>\n",
       "      <td>Long Square</td>\n",
       "      <td>X3LP_Rheo[0]</td>\n",
       "    </tr>\n",
       "    <tr>\n",
       "      <th>13</th>\n",
       "      <td>auto_passed</td>\n",
       "      <td>Long Square</td>\n",
       "      <td>X3LP_Rheo[1]</td>\n",
       "    </tr>\n",
       "    <tr>\n",
       "      <th>14</th>\n",
       "      <td>auto_passed</td>\n",
       "      <td>Long Square</td>\n",
       "      <td>X4PS_SupraThresh[0]</td>\n",
       "    </tr>\n",
       "    <tr>\n",
       "      <th>15</th>\n",
       "      <td>auto_passed</td>\n",
       "      <td>Long Square</td>\n",
       "      <td>X4PS_SupraThresh[1]</td>\n",
       "    </tr>\n",
       "    <tr>\n",
       "      <th>16</th>\n",
       "      <td>auto_passed</td>\n",
       "      <td>Long Square</td>\n",
       "      <td>X4PS_SupraThresh[2]</td>\n",
       "    </tr>\n",
       "  </tbody>\n",
       "</table>\n",
       "</div>"
      ],
      "text/plain": [
       "             workflow_state         name          description\n",
       "sweep_number                                                 \n",
       "4               auto_failed  Long Square    X1PS_SubThresh[0]\n",
       "5               auto_failed  Long Square    X1PS_SubThresh[1]\n",
       "7               auto_passed  Long Square    X1PS_SubThresh[3]\n",
       "8               auto_passed  Long Square    X1PS_SubThresh[4]\n",
       "12              auto_passed  Long Square         X3LP_Rheo[0]\n",
       "13              auto_passed  Long Square         X3LP_Rheo[1]\n",
       "14              auto_passed  Long Square  X4PS_SupraThresh[0]\n",
       "15              auto_passed  Long Square  X4PS_SupraThresh[1]\n",
       "16              auto_passed  Long Square  X4PS_SupraThresh[2]"
      ]
     },
     "execution_count": 7,
     "metadata": {},
     "output_type": "execute_result"
    }
   ],
   "source": [
    "# get sweep info\n",
    "\n",
    "out_info=lr.get_sweep_info('760398902', \"Long Square\")\n",
    "\n",
    "out_info"
   ]
  },
  {
   "cell_type": "code",
   "execution_count": 6,
   "metadata": {},
   "outputs": [
    {
     "data": {
      "text/plain": [
       "u'/allen/programs/celltypes/production/humancelltypes/prod101/Ephys_Roi_Result_760398865/760398865.nwb'"
      ]
     },
     "execution_count": 6,
     "metadata": {},
     "output_type": "execute_result"
    }
   ],
   "source": [
    "# get nwb path\n",
    "\n",
    "nwb_path=lr.get_nwb_path_from_lims('760398902')\n",
    "\n",
    "nwb_path"
   ]
  },
  {
   "cell_type": "code",
   "execution_count": null,
   "metadata": {},
   "outputs": [],
   "source": []
  },
  {
   "cell_type": "code",
   "execution_count": 25,
   "metadata": {},
   "outputs": [],
   "source": [
    "# get the dataset from the project\n",
    "\n",
    "cell_dataframe=lr.get_cells_df(project_id=None, project_code='hIVSCC-MET', cells_list=['760398902','770330029'])"
   ]
  },
  {
   "cell_type": "code",
   "execution_count": 26,
   "metadata": {},
   "outputs": [
    {
     "data": {
      "text/html": [
       "<div>\n",
       "<style scoped>\n",
       "    .dataframe tbody tr th:only-of-type {\n",
       "        vertical-align: middle;\n",
       "    }\n",
       "\n",
       "    .dataframe tbody tr th {\n",
       "        vertical-align: top;\n",
       "    }\n",
       "\n",
       "    .dataframe thead th {\n",
       "        text-align: right;\n",
       "    }\n",
       "</style>\n",
       "<table border=\"1\" class=\"dataframe\">\n",
       "  <thead>\n",
       "    <tr style=\"text-align: right;\">\n",
       "      <th></th>\n",
       "      <th>name</th>\n",
       "      <th>cell_depth</th>\n",
       "      <th>structure</th>\n",
       "      <th>donor_name</th>\n",
       "      <th>layer</th>\n",
       "      <th>project_code</th>\n",
       "      <th>nwb_path</th>\n",
       "      <th>filename</th>\n",
       "    </tr>\n",
       "    <tr>\n",
       "      <th>id</th>\n",
       "      <th></th>\n",
       "      <th></th>\n",
       "      <th></th>\n",
       "      <th></th>\n",
       "      <th></th>\n",
       "      <th></th>\n",
       "      <th></th>\n",
       "      <th></th>\n",
       "    </tr>\n",
       "  </thead>\n",
       "  <tbody>\n",
       "    <tr>\n",
       "      <th>760398902</th>\n",
       "      <td>H18.06.365.11.08.01.01</td>\n",
       "      <td>43.0</td>\n",
       "      <td>Primary visual area</td>\n",
       "      <td>H18.06.365</td>\n",
       "      <td>None</td>\n",
       "      <td>hIVSCC-MET</td>\n",
       "      <td>/allen/programs/celltypes/production/humancell...</td>\n",
       "      <td>760398865.nwb</td>\n",
       "    </tr>\n",
       "    <tr>\n",
       "      <th>770330029</th>\n",
       "      <td>H18.03.319.11.18.01.07</td>\n",
       "      <td>49.4</td>\n",
       "      <td>None</td>\n",
       "      <td>H18.03.319</td>\n",
       "      <td>None</td>\n",
       "      <td>hIVSCC-MET</td>\n",
       "      <td>/allen/programs/celltypes/production/humancell...</td>\n",
       "      <td>770329854.nwb</td>\n",
       "    </tr>\n",
       "  </tbody>\n",
       "</table>\n",
       "</div>"
      ],
      "text/plain": [
       "                             name  cell_depth            structure  \\\n",
       "id                                                                   \n",
       "760398902  H18.06.365.11.08.01.01        43.0  Primary visual area   \n",
       "770330029  H18.03.319.11.18.01.07        49.4                 None   \n",
       "\n",
       "           donor_name layer project_code  \\\n",
       "id                                         \n",
       "760398902  H18.06.365  None   hIVSCC-MET   \n",
       "770330029  H18.03.319  None   hIVSCC-MET   \n",
       "\n",
       "                                                    nwb_path       filename  \n",
       "id                                                                           \n",
       "760398902  /allen/programs/celltypes/production/humancell...  760398865.nwb  \n",
       "770330029  /allen/programs/celltypes/production/humancell...  770329854.nwb  "
      ]
     },
     "execution_count": 26,
     "metadata": {},
     "output_type": "execute_result"
    }
   ],
   "source": [
    "cell_dataframe['donor_name']\n",
    "\n",
    "cell_dataframe"
   ]
  },
  {
   "cell_type": "code",
   "execution_count": null,
   "metadata": {},
   "outputs": [],
   "source": []
  }
 ],
 "metadata": {
  "kernelspec": {
   "display_name": "Python 2",
   "language": "python",
   "name": "python2"
  },
  "language_info": {
   "codemirror_mode": {
    "name": "ipython",
    "version": 2
   },
   "file_extension": ".py",
   "mimetype": "text/x-python",
   "name": "python",
   "nbconvert_exporter": "python",
   "pygments_lexer": "ipython2",
   "version": "2.7.15"
  }
 },
 "nbformat": 4,
 "nbformat_minor": 2
}
