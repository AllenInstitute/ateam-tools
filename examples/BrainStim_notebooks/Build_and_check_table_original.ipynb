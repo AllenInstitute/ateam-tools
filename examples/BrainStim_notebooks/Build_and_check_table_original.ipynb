{
 "cells": [
  {
   "cell_type": "code",
   "execution_count": null,
   "metadata": {},
   "outputs": [],
   "source": [
    "import reobase_analysis.exper_utils as xu\n",
    "import reobase_analysis.build_table as bt\n",
    "import matplotlib.pylab as plt\n",
    "import reobase_analysis.sin_utils as su\n",
    "import reobase_analysis.table_plot_helper as tpl\n",
    "import isee_engine.bionet.config as config\n",
    "import numpy as np\n",
    "import pandas as pd"
   ]
  },
  {
   "cell_type": "markdown",
   "metadata": {},
   "source": [
    "# Build tables\n",
    "\n",
    "For this part, you need to have  \n",
    "1) a json file in the following folder: \"/allen/aibs/mat/sooyl/Stimulus_Item_Values\"  \n",
    "2) you need to have the experimental .nwb files in \"/allen/aibs/mat/sooyl/50Khz_nwb_files\""
   ]
  },
  {
   "cell_type": "code",
   "execution_count": null,
   "metadata": {
    "scrolled": true
   },
   "outputs": [],
   "source": [
    "experiment_id = ['2018_10_24_133422']\n",
    "sampling_freq = 50\n",
    "# Any frequency lower than lowcut_freq and higher than highcut_freq is discarded from Vext\n",
    "lowcut_freq = 0.5 \n",
    "highcut_freq = 200 \n",
    "saved_data = False\n",
    "\n",
    "for ID in experiment_id:\n",
    "     bt.build_expr_table(ID, sampling_freq, lowcut_freq, highcut_freq)"
   ]
  },
  {
   "cell_type": "markdown",
   "metadata": {},
   "source": [
    "# Read the table\n",
    "\n",
    "#### You can read the table by providing the path or by using the experiment_id. This is by providing the path:"
   ]
  },
  {
   "cell_type": "code",
   "execution_count": null,
   "metadata": {},
   "outputs": [],
   "source": [
    "xu.read_table_h5(\"/allen/aibs/mat/sooyl/result_tables/table_2018_10_24_133422_50.h5\")"
   ]
  },
  {
   "cell_type": "markdown",
   "metadata": {},
   "source": [
    "#### This is by providing the experiment_id:"
   ]
  },
  {
   "cell_type": "code",
   "execution_count": null,
   "metadata": {},
   "outputs": [],
   "source": [
    "saved_data = False\n",
    "experiment_id = '2018_10_24_133422'\n",
    "table = xu.read_table_from_exp_id(experiment_id, sampling_freq, saved_data)\n",
    "table\n"
   ]
  },
  {
   "cell_type": "markdown",
   "metadata": {},
   "source": [
    "# Looking at the control experiments"
   ]
  },
  {
   "cell_type": "markdown",
   "metadata": {},
   "source": [
    "All the analysis for control experiment is done the same way as for the other experiment. However for the spike phase analysis, controls dont have any sin wave. Therefore we computed the spike phase based on the other sweeps with different frequencies after them. In the following table, you can see the data related to the control experiments. "
   ]
  },
  {
   "cell_type": "code",
   "execution_count": null,
   "metadata": {
    "scrolled": true
   },
   "outputs": [],
   "source": [
    "print table[table['ex_amp(nA)']==0]['in_dur(ms)'].unique()\n",
    "print table[table['ex_amp(nA)']==0]['ex_dur(ms)'].unique()"
   ]
  },
  {
   "cell_type": "code",
   "execution_count": null,
   "metadata": {},
   "outputs": [],
   "source": [
    "table[table['ex_amp(nA)']==0]"
   ]
  },
  {
   "cell_type": "code",
   "execution_count": null,
   "metadata": {},
   "outputs": [],
   "source": [
    "table[table['sweep_number']==67]"
   ]
  },
  {
   "cell_type": "markdown",
   "metadata": {},
   "source": [
    "For any specific sweep, you can plot the Vi and Vext trace as the following:"
   ]
  },
  {
   "cell_type": "code",
   "execution_count": null,
   "metadata": {},
   "outputs": [],
   "source": [
    "sweep = 57\n",
    "ex_el_id = 7\n",
    "in_el_id = 5 \n",
    "\n",
    "# Reading the Vext \n",
    "v = xu.read_trace_from_nwb(experiment_id, sampling_freq,  sweep, ex_el_id, saved_data)\n",
    "tpl.plot_nwb_trace(v, sampling_freq, title=\"Raw Ve trace\")\n",
    "\n",
    "\n",
    "# Reading the Vi\n",
    "v = xu.read_trace_from_nwb(experiment_id, sampling_freq,  sweep, in_el_id, saved_data)\n",
    "tpl.plot_nwb_trace(v, sampling_freq, title=\"Vi trace\")\n",
    "plt.show()\n",
    "\n",
    "print \"in the table there are\", table[(table['sweep_number'] == sweep) & (table['ex_el_id'] == ex_el_id)][\"num_spikes\"][0] ,\"spikes for this sweep\" "
   ]
  },
  {
   "cell_type": "markdown",
   "metadata": {},
   "source": [
    "# Let's do some checks on the table\n",
    "## 1- Check the presence of spike in the table and compare it with the raw data\n",
    "You can use the table to get the extracellular and intracellular electrode_id and then use that to get the raw data from nwb file and check for example to see if in the table there is spike for a specific sweep, do the raw data also shows correctly if there is spike. For example in the below, we can look at sweep=181, which has extracellular_electrode_id = 7 and intracellular_electrode_id =5. In the table, we see that sweep, has spikes. Now we want to look at the raw trace and see if there is spike."
   ]
  },
  {
   "cell_type": "code",
   "execution_count": null,
   "metadata": {},
   "outputs": [],
   "source": [
    "s = table['sweep_number'].unique()"
   ]
  },
  {
   "cell_type": "code",
   "execution_count": null,
   "metadata": {},
   "outputs": [],
   "source": [
    "# ex_el_id = [table['ex_el_id'].unique()[0]]\n",
    "# in_el_id = [table['in_el_id'].unique()[0]]  \n",
    "\n",
    "\n",
    "# for sweep in s:\n",
    "#     for ex_el in ex_el_id:\n",
    "#         v = xu.read_trace_from_nwb(experiment_id, sampling_freq,  int(sweep), ex_el, saved_data)\n",
    "#         v = xu.read_trace_from_nwb(experiment_id, sampling_freq,  int(sweep), in_el_id[0], saved_data)\n",
    "    \n",
    "# print \"All the simulus descriptions are correct\""
   ]
  },
  {
   "cell_type": "code",
   "execution_count": null,
   "metadata": {},
   "outputs": [],
   "source": [
    "table[table['num_spikes']>0]"
   ]
  },
  {
   "cell_type": "code",
   "execution_count": null,
   "metadata": {
    "scrolled": false
   },
   "outputs": [],
   "source": [
    "sweep = 76\n",
    "ex_el_id = 7\n",
    "in_el_id = 5 \n",
    "\n",
    "# Reading the Vext \n",
    "v = xu.read_trace_from_nwb(experiment_id, sampling_freq,  sweep, ex_el_id, saved_data)\n",
    "tpl.plot_nwb_trace(v, sampling_freq, title=\"Raw Ve trace\")\n",
    "\n",
    "\n",
    "# Reading the Vi\n",
    "v = xu.read_trace_from_nwb(experiment_id, sampling_freq,  sweep, in_el_id, saved_data)\n",
    "tpl.plot_nwb_trace(v, sampling_freq, title=\"Vi trace\")\n",
    "plt.show()\n",
    "\n",
    "print \"in the table there are\", table[(table['sweep_number'] == sweep) & (table['ex_el_id'] == ex_el_id)][\"num_spikes\"][0] ,\"spikes for this sweep\" "
   ]
  },
  {
   "cell_type": "markdown",
   "metadata": {},
   "source": [
    "#### You can do the above check for different electrodes and see if it shows spike data in the table, the raw data also contains spikes."
   ]
  },
  {
   "cell_type": "markdown",
   "metadata": {},
   "source": [
    "## 2- Check the Vext and Vi phase and amplitude\n",
    "It is important to note that if there is no spike and if there is a sin extracellualr current present, then both Vi and Vext should have amplitude and phase values inside the table. I call an experiment a control, when the extracellualr stimulation is =0. In this case all the values printed below should be NAN. Which means that there is no sin wave anywhere. So the outcome the following test MUST be TRUE. "
   ]
  },
  {
   "cell_type": "code",
   "execution_count": null,
   "metadata": {},
   "outputs": [],
   "source": [
    "table[table['ex_amp(nA)']==0][['vext_amp(mV)', 'vext_phase', 'vi_amp(mV)','vi_phase', 'vm_amp(mV)', 'vm_phase']].isnull().values.all()"
   ]
  },
  {
   "cell_type": "markdown",
   "metadata": {},
   "source": [
    "For all other sweeps except the control, we MUST have values for Vext_amp and Vext_phase, so we MUST get FALSE for the following line:"
   ]
  },
  {
   "cell_type": "code",
   "execution_count": null,
   "metadata": {},
   "outputs": [],
   "source": [
    "table[table['ex_amp(nA)']!=0][['vext_amp(mV)', 'vext_phase']].isnull().values.all()"
   ]
  },
  {
   "cell_type": "markdown",
   "metadata": {},
   "source": [
    "However for vi, the vi_amp and vi_phase are computed when the cell is not spiking. So if there is spike, then these values are NAN. so the output of the follwoing test MUST be TRUE."
   ]
  },
  {
   "cell_type": "code",
   "execution_count": null,
   "metadata": {},
   "outputs": [],
   "source": [
    "table[table['num_spikes']>0][['vi_amp(mV)', 'vi_phase']].isnull().values.all()"
   ]
  },
  {
   "cell_type": "markdown",
   "metadata": {},
   "source": [
    "Vm is computed only when there is not spike and only for the closest electrode because Vext of the closest electrode must be used in this function: Vm= Vi- Vext. Therefore the outcome of the following tests must be TRUE."
   ]
  },
  {
   "cell_type": "code",
   "execution_count": null,
   "metadata": {},
   "outputs": [],
   "source": [
    "print table[table['num_spikes']>0][['vm_amp(mV)', 'vm_phase']].isnull().values.all()\n",
    "print ~table[(table['ex_el_distance(mu)']==50) & (table['num_spikes']==0)][['vm_amp(mV)', 'vm_phase']].isnull().values.all()"
   ]
  },
  {
   "cell_type": "code",
   "execution_count": null,
   "metadata": {},
   "outputs": [],
   "source": [
    "table[(table['num_spikes']>0)]"
   ]
  },
  {
   "cell_type": "code",
   "execution_count": null,
   "metadata": {},
   "outputs": [],
   "source": [
    "table[table['sweep_number']==71][['vext_amp(mV)', 'vext_phase','vi_amp(mV)', 'vi_phase']]"
   ]
  },
  {
   "cell_type": "markdown",
   "metadata": {},
   "source": [
    "Here I am checking the phase and amplitude of Vext for one sweep. For this specific sweep, Vi amplitude and phase are NAN becasue the cell is spiking but the Vext amplitude and phase are not NAN and in the below, I show how the values are computed."
   ]
  },
  {
   "cell_type": "code",
   "execution_count": null,
   "metadata": {
    "scrolled": false
   },
   "outputs": [],
   "source": [
    "sweep = 71\n",
    "electrode_id = table['ex_el_id'].unique().tolist()\n",
    "freq = 31 \n",
    "ex_dur = 13000\n",
    "ex_delay = 1000\n",
    "\n",
    "for el in electrode_id:\n",
    "    #Find the signal from NWB file\n",
    "    v = xu.read_trace_from_nwb(experiment_id, sampling_freq,  sweep, el, saved_data)\n",
    "    #Filter the signal\n",
    "    fil_v = su.bandpass_filter(v, 0.5, 110, 1./(sampling_freq * 1000.))\n",
    "    #Plot the signal andfiltered signal\n",
    "    tpl.plot_nwb_trace(v, 50, title=\"Raw trace\")\n",
    "    tpl.plot_nwb_trace(fil_v, 50, title=\"Filtered trace\")\n",
    "\n",
    "    # Compute the mean trace and plot the mean trace and its amplitude\n",
    "    sin = su.get_fitted_sin(fil_v,ex_delay, ex_dur, freq, 0.02)\n",
    "    mean_fil_v_trace = su.get_mean_trace(var_trace = fil_v, ex_delay= ex_delay, ex_dur = ex_dur, freq = freq, dt = 0.02) \n",
    "    amplitude_line = table[(table['sweep_number']==sweep) & (table['ex_el_id']==el)]['vext_amp(mV)'][0]\n",
    "    ax1 = tpl.plot_nwb_trace(np.repeat(amplitude_line, len(mean_fil_v_trace)), 50)\n",
    "    tpl.plot_nwb_trace(mean_fil_v_trace, 50, title=\"Mean trace\", ax= ax1)\n",
    "    tpl.plot_nwb_trace(sin, 50, ax=ax1)\n",
    "\n",
    "plt.show()\n"
   ]
  },
  {
   "cell_type": "markdown",
   "metadata": {},
   "source": [
    "We can do the same test for another sweep in which Vi is not spiking and therefore we can compute the phase and amplitude if Vi for example the following sweep:"
   ]
  },
  {
   "cell_type": "code",
   "execution_count": null,
   "metadata": {
    "scrolled": true
   },
   "outputs": [],
   "source": [
    "# table[(table['num_spikes']==0)]['in_amp(pA)'].unique()\n",
    "table[(table['num_spikes']==0) & (table['ex_amp(nA)']!=0)]"
   ]
  },
  {
   "cell_type": "code",
   "execution_count": null,
   "metadata": {},
   "outputs": [],
   "source": [
    "sweep = 79\n",
    "ex_electrode_id = 7\n",
    "print table[(table['sweep_number']==sweep) & (table['ex_el_id']==ex_electrode_id)]['vm_amp(mV)'][0]\n",
    "print table[(table['sweep_number']==sweep) & (table['ex_el_id']==ex_electrode_id)]['vi_amp(mV)'][0]\n"
   ]
  },
  {
   "cell_type": "code",
   "execution_count": null,
   "metadata": {},
   "outputs": [],
   "source": [
    "sweep = 79\n",
    "in_electrode_id = 5 \n",
    "ex_electrode_id = 7\n",
    "freq = 8 \n",
    "ex_dur = 9000\n",
    "ex_delay = 1000\n",
    "\n",
    "\n",
    "#Find the signal from NWB file\n",
    "vi = xu.read_trace_from_nwb(experiment_id, sampling_freq,  sweep, in_electrode_id, saved_data)\n",
    "\n",
    "ve = xu.read_trace_from_nwb(experiment_id, sampling_freq,  sweep, ex_electrode_id, saved_data)\n",
    "fil_ve = su.bandpass_filter(ve, 0.5, 110, 1./(sampling_freq * 1000.))\n",
    "\n",
    "vm =  vi - (fil_ve- np.mean(fil_ve))\n",
    "\n",
    "amplitude_line = table[(table['sweep_number']==sweep) & (table['ex_el_id']==ex_electrode_id)]['avg_vm(mV)'][0]\n",
    "ax = tpl.plot_nwb_trace(vi, 50, title=\"Raw trace\", label=\"Vi\")\n",
    "tpl.plot_nwb_trace(vm, 50,  ax=ax, label=\"Vm\")\n",
    "tpl.plot_nwb_trace(fil_ve+amplitude_line, 50,  ax=ax, label=\"Ve\")\n",
    "tpl.plot_nwb_trace(np.repeat(amplitude_line, len(vm)), 50,  ax=ax)\n",
    "# plt.ylim(amplitude_line-3, amplitude_line+3)\n",
    "plt.xlim(3,8)\n",
    "plt.show()\n"
   ]
  },
  {
   "cell_type": "code",
   "execution_count": null,
   "metadata": {},
   "outputs": [],
   "source": [
    "sweep = 77\n",
    "in_electrode_id = 5 \n",
    "freq = 8\n",
    "ex_dur = 9000\n",
    "ex_delay = 1000\n",
    "\n",
    "\n",
    "#Find the signal from NWB file\n",
    "v = xu.read_trace_from_nwb(experiment_id, sampling_freq,  sweep, in_electrode_id, saved_data)\n",
    "tpl.plot_nwb_trace(v, 50, title=\"Raw trace\")\n",
    "plt.show()\n",
    "\n",
    "# Compute the mean trace and plot the mean trace and its amplitude\n",
    "sin = su.get_fitted_sin(v,ex_delay, ex_dur, freq, 0.02)\n",
    "mean_fil_v_trace = su.get_mean_trace(var_trace = v, ex_delay= ex_delay, ex_dur = ex_dur, freq = freq, dt = 0.02) \n",
    "amplitude_line = table[(table['sweep_number']==sweep) & (table['in_el_id']==in_electrode_id)]['vi_amp(mV)'][0]\n",
    "ax1 = tpl.plot_nwb_trace(np.repeat(amplitude_line, len(mean_fil_v_trace)), 50)\n",
    "tpl.plot_nwb_trace(mean_fil_v_trace, 50, title=\"Mean trace\", ax= ax1)\n",
    "tpl.plot_nwb_trace(sin, 50, ax=ax1)\n",
    "plt.show()"
   ]
  },
  {
   "cell_type": "code",
   "execution_count": null,
   "metadata": {},
   "outputs": [],
   "source": [
    "table[table['sweep_number']==77][['vext_amp(mV)', 'vext_phase','vi_amp(mV)', 'vi_phase']]"
   ]
  },
  {
   "cell_type": "markdown",
   "metadata": {},
   "source": [
    "## 3- Check the Spike phase\n"
   ]
  },
  {
   "cell_type": "code",
   "execution_count": null,
   "metadata": {
    "scrolled": true
   },
   "outputs": [],
   "source": [
    "table[table['num_spikes']>0]"
   ]
  },
  {
   "cell_type": "code",
   "execution_count": null,
   "metadata": {},
   "outputs": [],
   "source": [
    "table[table['sweep_number']==65]"
   ]
  },
  {
   "cell_type": "markdown",
   "metadata": {},
   "source": [
    "First, lets look at the filtered signal and the hilbert phase for all the extracellular electrodes for one sweep."
   ]
  },
  {
   "cell_type": "code",
   "execution_count": null,
   "metadata": {
    "scrolled": false
   },
   "outputs": [],
   "source": [
    "sweep = 65\n",
    "electrode_id = table['ex_el_id'].unique().tolist()\n",
    "# freq = 9\n",
    "ex_dur = 13000\n",
    "ex_delay = 1000\n",
    "\n",
    "ax0 = plt.figure(figsize=(20,5))\n",
    "ax0 = plt.subplot(111)\n",
    "\n",
    "ax1 = plt.figure(figsize=(20,5))\n",
    "ax1 = plt.subplot(111)\n",
    "\n",
    "ax2 = plt.figure(figsize=(20,5))\n",
    "ax2 = plt.subplot(111)\n",
    "\n",
    "\n",
    "for el in electrode_id:\n",
    "    #Find the signal from NWB file\n",
    "    v = xu.read_trace_from_nwb(experiment_id, sampling_freq,  sweep, el, saved_data)\n",
    "    tpl.plot_nwb_trace(v - np.mean(v), 50, ax= ax0, title= \"Raw_centered signal from extracellular recording electrodes\")\n",
    "\n",
    "    #Filter the signal\n",
    "    fil_v = su.bandpass_filter(v, 0.5, 110, 1./(sampling_freq * 1000.))\n",
    "    tpl.plot_nwb_trace(fil_v, 50, ax= ax1, title= \"Filtered_signal from extracellular recording electrodes\")\n",
    "    #Apply hilber on the filtered signal\n",
    "    phase_var, amp_var, freq_var =bt.hilbert_transform_expr(fil_v, ex_delay, ex_dur, 0.02)\n",
    "    tpl.plot_nwb_trace(phase_var, 50, ax= ax2, title= \"Hilbert Phase\")\n",
    "\n",
    "ax0.set_xlim(5,6)\n",
    "ax1.set_xlim(5,6)\n",
    "ax2.set_xlim(5,6)\n",
    "plt.show()\n",
    "    "
   ]
  },
  {
   "cell_type": "markdown",
   "metadata": {},
   "source": [
    "####  The plot above shows that the hilbert phase is slightly different for different extracellular recording electrodes\n",
    "This means that the spike phase is also going to be different depending which electrode we choose to perform the spike phase analysis. Below, I am just plotting all the spike phase values computed using hilbert transorm of each of extracellular recording electrodes."
   ]
  },
  {
   "cell_type": "code",
   "execution_count": null,
   "metadata": {},
   "outputs": [],
   "source": [
    "sp0 = table[table['sweep_number']==65]['spike_phase'][0]\n",
    "sp1 = table[table['sweep_number']==65]['spike_phase'][1]\n",
    "# sp2 = table[table['sweep_number']==163]['spike_phase'][2]\n",
    "# sp3 = table[table['sweep_number']==163]['spike_phase'][3]\n",
    "plt.figure(figsize=(20,5))\n",
    "plt.scatter(np.arange(0,len(sp0)),sp0)\n",
    "plt.scatter(np.arange(0,len(sp1)),sp1)\n",
    "# plt.scatter(np.arange(0,len(sp2)),sp2)\n",
    "# plt.scatter(np.arange(0,len(sp3)),sp3)\n",
    "plt.ylabel('Phase(Rad)', size=20)\n",
    "plt.xlabel('Spike', size=20)\n",
    "plt.show()"
   ]
  },
  {
   "cell_type": "markdown",
   "metadata": {},
   "source": [
    "#### But anyway, we would like to check if the values computed for spike phase are correct. If everything is fine, then all the scatter points in the plots below MUST cross the orange lines."
   ]
  },
  {
   "cell_type": "code",
   "execution_count": null,
   "metadata": {},
   "outputs": [],
   "source": [
    "sweep = 65\n",
    "ex_electrode_id = table['ex_el_id'].unique().tolist()\n",
    "in_electrode_id = 5\n",
    "# freq = 31\n",
    "ex_dur = 13000\n",
    "ex_delay = 1000\n",
    "lowcut_freq = 0.5\n",
    "highcut_freq = 110\n",
    "dt = 0.02 #ms\n",
    "\n",
    "\n",
    "for el in ex_electrode_id:\n",
    "    vi = xu.read_trace_from_nwb(experiment_id, sampling_freq,  sweep, in_electrode_id, saved_data)\n",
    "    ax = plt.figure(figsize=(20,5))\n",
    "    ax = plt.subplot(111)\n",
    "    tpl.plot_nwb_trace(vi, 50, ax= ax)   \n",
    "\n",
    "    vext = xu.read_trace_from_nwb(experiment_id, sampling_freq,  sweep, el, saved_data)\n",
    "    filtered_vext = su.bandpass_filter(vext, lowcut_freq, highcut_freq, dt * 0.001)\n",
    "    phase_var, b, c = bt.hilbert_transform_expr(filtered_vext, ex_delay, ex_dur, dt)\n",
    "    N = len(phase_var)\n",
    "    time_step = 1. / (sampling_freq * 1000)\n",
    "    tstop = (ex_delay + ex_dur)/1000.\n",
    "    time = np.arange(ex_delay/1000.,tstop , time_step)\n",
    "\n",
    "    ax.plot(time, [pv - 20. for pv in phase_var])\n",
    "    spike_tt = table[(table['sweep_number'] == sweep) & (table['ex_el_id']==el)]['spike_tt'][0]\n",
    "    spike_phase = table[(table['sweep_number'] == sweep) & (table['ex_el_id']==el)]['spike_phase'][0]\n",
    "    ax.scatter(spike_tt / 1000. , [sp -20 for sp in spike_phase], s=100)\n",
    "    \n",
    "    ax.set_xlim(3, 4)\n",
    "    plt.show()"
   ]
  },
  {
   "cell_type": "markdown",
   "metadata": {},
   "source": [
    "We corrected the phase and brought all the values between 0 and 2pi. In the figure below, all the points must cross the orange line and also must be at the spike time. We also got rid of all the spikes below 3.5s."
   ]
  },
  {
   "cell_type": "code",
   "execution_count": null,
   "metadata": {},
   "outputs": [],
   "source": [
    "sweep = 65\n",
    "ex_electrode_id = table['ex_el_id'].unique().tolist()\n",
    "in_electrode_id = 5\n",
    "# freq = 31\n",
    "ex_dur = 13000\n",
    "ex_delay = 1000\n",
    "lowcut_freq = 0.5\n",
    "highcut_freq = 200\n",
    "dt = 0.02 #ms\n",
    "\n",
    "\n",
    "for el in ex_electrode_id:\n",
    "    print el\n",
    "    vi = xu.read_trace_from_nwb(experiment_id, sampling_freq,  sweep, in_electrode_id, saved_data)\n",
    "    ax = plt.figure(figsize=(20,5))\n",
    "    ax = plt.subplot(111)\n",
    "    tpl.plot_nwb_trace(vi, 50, ax= ax)   \n",
    "\n",
    "    vext = xu.read_trace_from_nwb(experiment_id, sampling_freq,  sweep, el, saved_data)\n",
    "    filtered_vext = su.bandpass_filter(vext, lowcut_freq, highcut_freq, dt * 0.001)\n",
    "    phase_var, b, c = bt.hilbert_transform_expr(filtered_vext, ex_delay, ex_dur, dt)\n",
    "    temp = [x + (1.5 * np.pi) for x in phase_var]\n",
    "    corrected_phase = [(x/(2*np.pi) - int(x/(2*np.pi))) * 2 * np.pi for x in temp]\n",
    "    \n",
    "    N = len(phase_var)\n",
    "    time_step = 1. / (sampling_freq * 1000)\n",
    "    tstop = (ex_delay + ex_dur)/1000.\n",
    "    time = np.arange(ex_delay/1000.,tstop , time_step)\n",
    "\n",
    "    ax.plot(time, [pv - 20. for pv in corrected_phase])\n",
    "    ax.plot(time, [pv - 20. for pv in phase_var])\n",
    "\n",
    "    spike_tt = table[(table['sweep_number'] == sweep) & (table['ex_el_id']==el)]['spike_tt_A'][0]\n",
    "    spike_phase = table[(table['sweep_number'] == sweep) & (table['ex_el_id']==el)]['spike_phase_A_corrected'][0]\n",
    "    ax.scatter([stt/1000. for stt in spike_tt] , [sp -20 for sp in spike_phase], s=100)\n",
    "    \n",
    "    ax.set_xlim(4, 5)\n",
    "    plt.show()"
   ]
  },
  {
   "cell_type": "markdown",
   "metadata": {},
   "source": [
    "# Spike phase analysis for one of the conrol experiments"
   ]
  },
  {
   "cell_type": "code",
   "execution_count": null,
   "metadata": {},
   "outputs": [],
   "source": [
    "table[table['ex_amp(nA)']==0]"
   ]
  },
  {
   "cell_type": "code",
   "execution_count": null,
   "metadata": {},
   "outputs": [],
   "source": [
    "table['ex_el_id'].unique().tolist()"
   ]
  },
  {
   "cell_type": "code",
   "execution_count": null,
   "metadata": {
    "scrolled": false
   },
   "outputs": [],
   "source": [
    "control_sweep = 56\n",
    "other_sweep = [ 57, 58, 59, 60 ]\n",
    "freq = [1, 5, 9, 31]\n",
    "ex_electrode_id = table['ex_el_id'].unique().tolist()[1]\n",
    "# ex_electrode_id= 4\n",
    "in_electrode_id = 5\n",
    "ex_dur = 13000\n",
    "ex_delay = 1000\n",
    "lowcut_freq = 0.5\n",
    "highcut_freq = 200\n",
    "dt = 0.02 #ms\n",
    "\n",
    "\n",
    "for s in other_sweep:\n",
    "        print \"freq\",freq[other_sweep.index(s)]\n",
    "        vi = xu.read_trace_from_nwb(experiment_id, sampling_freq,  control_sweep, in_electrode_id, saved_data)\n",
    "        ax = plt.figure(figsize=(20,5))\n",
    "        ax = plt.subplot(111)\n",
    "        tpl.plot_nwb_trace(vi, 50, ax= ax)   \n",
    "        vext = xu.read_trace_from_nwb(experiment_id, sampling_freq,  s, ex_electrode_id, saved_data)\n",
    "        filtered_vext = su.bandpass_filter(vext, lowcut_freq, highcut_freq, dt * 0.001)\n",
    "        phase_var, b, c = bt.hilbert_transform_expr(filtered_vext, ex_delay, ex_dur, dt)\n",
    "        temp = [x + (1.5 * np.pi) for x in phase_var]\n",
    "        corrected_phase = [(x/(2*np.pi) - int(x/(2*np.pi))) * 2 * np.pi for x in temp]\n",
    "    \n",
    "        N = len(phase_var)\n",
    "        time_step = 1. / (sampling_freq * 1000)\n",
    "        tstop = (ex_delay + ex_dur)/1000.\n",
    "        time = np.arange(ex_delay/1000.,tstop , time_step)\n",
    "\n",
    "        ax.plot(time, [pv - 20. for pv in corrected_phase])\n",
    "        ax.plot(time, [pv - 20. for pv in phase_var])\n",
    "\n",
    "        spike_tt = table[(table['sweep_number'] == control_sweep) & (table['ex_el_id']==ex_electrode_id) & (table['ex_frequency']==freq[other_sweep.index(s)])]['spike_tt_A'][0]\n",
    "        spike_phase = table[(table['sweep_number'] == control_sweep) & (table['ex_el_id']==ex_electrode_id)  & (table['ex_frequency']==freq[other_sweep.index(s)])]['spike_phase_A_corrected'][0]\n",
    "        ax.scatter([stt/1000. for stt in spike_tt] , [sp -20 for sp in spike_phase], s=100)\n",
    "    \n",
    "        ax.set_xlim(3, 5)\n",
    "        plt.show()"
   ]
  },
  {
   "cell_type": "markdown",
   "metadata": {},
   "source": [
    "# Can you think of any other tests? If yes, let me know"
   ]
  },
  {
   "cell_type": "markdown",
   "metadata": {},
   "source": [
    "in the table, all the columns which have the \"_A\" in their name, they are the values which are cut from the total amount for the analysis. For example Spike_tt, is the spike threshold time for all the spikes in one experiment. However spike_tt_A is the spike threshold time for only the spikes between 2 and 12 second for which we are doing the analysis."
   ]
  },
  {
   "cell_type": "code",
   "execution_count": null,
   "metadata": {},
   "outputs": [],
   "source": [
    "temp =table.apply(lambda row: [x  for x in row['spike_phase_A_corrected'] if (x > 2 * np.pi or x < 0)], axis=1)\n",
    "if np.sum([len(l) for l in temp]) == 0:\n",
    "    print \"Good\"\n",
    "else:\n",
    "    print \"Some of spike phases are out of range\"\n"
   ]
  },
  {
   "cell_type": "markdown",
   "metadata": {
    "collapsed": true
   },
   "source": [
    "# How are we filtering: This is an example"
   ]
  },
  {
   "cell_type": "code",
   "execution_count": null,
   "metadata": {},
   "outputs": [],
   "source": [
    "Fs = 8000\n",
    "f1 = 20\n",
    "f2 = 80\n",
    "sample = 8000\n",
    "t = np.arange(sample)\n",
    "dt = 1. / Fs \n",
    "signal = np.sin(2 * np.pi * f1 * t / Fs) + np.sin(2 * np.pi * f2 * t / Fs)"
   ]
  },
  {
   "cell_type": "code",
   "execution_count": null,
   "metadata": {},
   "outputs": [],
   "source": [
    "plt.figure(figsize=(20,5))\n",
    "plt.plot(signal)\n",
    "plt.show()\n",
    "\n",
    "plt.figure(figsize=(20,5))\n",
    "sig_fft, sampling_freq = su.compute_fft(signal, dt)\n",
    "tpl.plot_fft(sig_fft, sampling_freq)\n",
    "plt.show()\n",
    "\n",
    "filtered_sig =  su.bandpass_filter(signal,-50, 50, dt)\n",
    "plt.figure(figsize=(20,5))\n",
    "plt.plot(filtered_sig- signal)\n",
    "plt.show()\n",
    "plt.figure(figsize=(20,5))\n",
    "plt.plot(filtered_sig)\n",
    "plt.plot(signal)\n",
    "plt.show()\n",
    "\n",
    "sig_fft, sampling_freq = su.compute_fft(filtered_sig, dt)\n",
    "tpl.plot_fft(sig_fft, sampling_freq)\n",
    "plt.show()"
   ]
  },
  {
   "cell_type": "markdown",
   "metadata": {},
   "source": [
    "# This is filtered signal if we cut anything between 0.5 and 20000"
   ]
  },
  {
   "cell_type": "code",
   "execution_count": null,
   "metadata": {},
   "outputs": [],
   "source": [
    "fil = bandpass_filter(signal = Ve,lowcut_freq=0.5, highcut_freq=20000, time_step=1./50000)\n",
    "plt.figure(figsize=(20,5))\n",
    "plt.plot(Ve-fil)\n",
    "plt.show()\n",
    "\n",
    "plt.figure(figsize=(20,5))\n",
    "plt.plot(Ve)\n",
    "plt.plot(fil)\n",
    "plt.show()\n",
    "\n",
    "a, b = compute_fft(Ve, 1./50000)\n",
    "plot_fft(a, b)\n",
    "plt.show()\n",
    "\n",
    "a, b = compute_fft(fil, 1./50000)\n",
    "plot_fft(a, b)\n",
    "plt.show()"
   ]
  },
  {
   "cell_type": "code",
   "execution_count": null,
   "metadata": {},
   "outputs": [],
   "source": []
  },
  {
   "cell_type": "code",
   "execution_count": null,
   "metadata": {},
   "outputs": [],
   "source": []
  }
 ],
 "metadata": {
  "kernelspec": {
   "display_name": "Python 2",
   "language": "python",
   "name": "python2"
  },
  "language_info": {
   "codemirror_mode": {
    "name": "ipython",
    "version": 2
   },
   "file_extension": ".py",
   "mimetype": "text/x-python",
   "name": "python",
   "nbconvert_exporter": "python",
   "pygments_lexer": "ipython2",
   "version": "2.7.14"
  }
 },
 "nbformat": 4,
 "nbformat_minor": 2
}
