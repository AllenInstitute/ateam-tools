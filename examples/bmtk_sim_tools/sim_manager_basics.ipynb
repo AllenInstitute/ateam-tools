{
 "cells": [
  {
   "cell_type": "markdown",
   "metadata": {
    "slideshow": {
     "slide_type": "slide"
    }
   },
   "source": [
    "## Creating a simple single-cell simulation, using new tools\n",
    "First we make some imports from the ateam package, and create a SimManager for a new simulation.\n",
    "\n",
    "This will give us a basic config file to work from, and place it in a new folder."
   ]
  },
  {
   "cell_type": "code",
   "execution_count": 1,
   "metadata": {
    "slideshow": {
     "slide_type": "subslide"
    }
   },
   "outputs": [],
   "source": [
    "from ateam.sim.setup import SimManager\n",
    "import numpy as np\n",
    "%matplotlib inline\n",
    "\n",
    "# Specify the sim folder and a template file\n",
    "new_config = '/allen/aibs/mat/tmchartrand/bmtk_networks/temp/batch_config.json'\n",
    "config_template = \"/allen/aibs/mat/tmchartrand/bmtk_networks/biophys_components_shared/default_config.json\"\n",
    "\n",
    "sm = SimManager.from_template(config_template=config_template, overwrite=True, config_path=new_config)"
   ]
  },
  {
   "cell_type": "markdown",
   "metadata": {},
   "source": [
    "Here is one way we could get more info about this function (you can also see this in a pop-up by pressing shift-tab inside a function call."
   ]
  },
  {
   "cell_type": "code",
   "execution_count": 2,
   "metadata": {},
   "outputs": [
    {
     "name": "stdout",
     "output_type": "stream",
     "text": [
      "Help on method from_template in module ateam.sim.setup.sim_manager:\n",
      "\n",
      "from_template(cls, config_template, config_file='config.json', sim_folder=None, config_path=None, overwrite=False) method of __builtin__.type instance\n",
      "    Create a SimManager from template config file in a new simulation folder.\n",
      "    Creates folder if it doesn't exist.\n",
      "\n"
     ]
    }
   ],
   "source": [
    "help(SimManager.from_template)"
   ]
  },
  {
   "cell_type": "markdown",
   "metadata": {},
   "source": [
    "### Where to store shared simulation files?\n",
    "In my personal config template, I define the basic properties that I want fixed across many different simulations (dt, spike_threshold, etc). \n",
    "\n",
    "I also refer to a shared components directory that sits on the network, so I can download all my morphology and params files to that location, and work from a single copy of the modfiles also. This isn't necessary for the rest of the code to work. If others use this approach, though, we could share a single components directory across the group.\n",
    "\n",
    "For now, I could also set `\"biophysical_neuron_models_dir\": \"/allen/aibs/mat/ateam_shared/All_active_params\"` to use Ani's results directly."
   ]
  },
  {
   "cell_type": "markdown",
   "metadata": {},
   "source": [
    "```\n",
    "{\n",
    "  \"manifest\": {\n",
    "    \"$OUTPUT_DIR\": \"$BASE_DIR/output\", \n",
    "    \"$BASE_DIR\": \".\", \n",
    "    \"$COMPONENTS_DIR\": \"/allen/aibs/mat/tmchartrand/bmtk_networks/biophys_components_shared\", \n",
    "    \"$NETWORK_DIR\": \"$BASE_DIR/network\"\n",
    "  }, \n",
    "  \"target_simulator\": \"NEURON\", \n",
    "  \"run\": {\n",
    "    \"nsteps_block\": 5000, \n",
    "    \"dt\": 0.1, \n",
    "    \"dL\": 20.0, \n",
    "    \"spike_threshold\": -20.0, \n",
    "    \"tstop\": 500.0\n",
    "  }, \n",
    "  \"conditions\": {\n",
    "    \"celsius\": 34.0, \n",
    "    \"v_init\": -80.0\n",
    "  },\n",
    "  \"components\": {\n",
    "    \"point_neuron_models_dir\": \"$COMPONENTS_DIR/point_neuron_templates\", \n",
    "    \"biophysical_neuron_models_dir\": \"$COMPONENTS_DIR/biophysical_neuron_templates\", \n",
    "    \"mechanisms_dir\": \"$COMPONENTS_DIR/mechanisms\", \n",
    "    \"morphologies_dir\": \"$COMPONENTS_DIR/morphologies\", \n",
    "    \"synaptic_models_dir\": \"$COMPONENTS_DIR/synaptic_models\"\n",
    "  }, \n",
    "  \"output\": {\n",
    "    \"spikes_file_csv\": \"spikes.csv\", \n",
    "    \"spikes_file\": \"spikes.h5\", \n",
    "    \"log_file\": \"log.txt\", \n",
    "    \"output_dir\": \"${OUTPUT_DIR}\", \n",
    "    \"overwrite_output_dir\": true\n",
    "  }\n",
    "}\n",
    "```"
   ]
  },
  {
   "cell_type": "markdown",
   "metadata": {},
   "source": [
    "I could then use the info in this template config to download (and rename) all morphology files I need to the right location as a batch:"
   ]
  },
  {
   "cell_type": "code",
   "execution_count": 11,
   "metadata": {
    "collapsed": true
   },
   "outputs": [
    {
     "name": "stderr",
     "output_type": "stream",
     "text": [
      "2019-02-13 11:24:53,385 allensdk.api.api.retrieve_file_over_http INFO     Downloading URL: http://api.brain-map.org/api/v2/well_known_file_download/626185205\n",
      "2019-02-13 11:24:53,494 allensdk.api.api.retrieve_file_over_http INFO     Downloading URL: http://api.brain-map.org/api/v2/well_known_file_download/667327859\n"
     ]
    }
   ],
   "source": [
    "from ateam.data.allensdk_tools import download_morph_files, download_models_to_config\n",
    "\n",
    "cell_list = [525133308]\n",
    "# Download morphology and perisomatic model params:\n",
    "download_models_to_config(cell_list, config_template, model_type='peri')\n",
    "\n",
    "# or just download morphology:\n",
    "morph_dir = \"/allen/aibs/mat/tmchartrand/bmtk_networks/biophys_components_shared/morphologies\"\n",
    "download_morph_files(cell_list, morph_dir)"
   ]
  },
  {
   "cell_type": "markdown",
   "metadata": {},
   "source": [
    "### Adding nodes and input to the simulation"
   ]
  },
  {
   "cell_type": "markdown",
   "metadata": {
    "slideshow": {
     "slide_type": "slide"
    }
   },
   "source": [
    "Then we define properties for our nodes and edges"
   ]
  },
  {
   "cell_type": "code",
   "execution_count": 3,
   "metadata": {
    "slideshow": {
     "slide_type": "fragment"
    }
   },
   "outputs": [],
   "source": [
    "\n",
    "cell_id = 525133308\n",
    "node_props = {\n",
    "        'cell_name': cell_id,\n",
    "        'morphology': '{}.swc'.format(cell_id),\n",
    "        'dynamics_params': 'optim_param_{}.json'.format(cell_id),\n",
    "        'model_type': 'biophysical',\n",
    "        'model_template': 'ctdb:Biophys1.hoc',\n",
    "        'model_processing': 'aibs_allactive_ani'\n",
    "    }\n",
    "\n",
    "edge_props = {\n",
    "    'nsyns': 100,\n",
    "    'syn_weight': 1e-5, \n",
    "    'distance_range_min': 0,\n",
    "    'distance_range_max': 200,\n",
    "    'delay': 0,\n",
    "    'target_sections': ['somatic'],\n",
    "    'dynamics_params': 'AMPA_ExcToExc.json',\n",
    "    'model_template': 'exp2syn'\n",
    "}\n"
   ]
  },
  {
   "cell_type": "markdown",
   "metadata": {
    "slideshow": {
     "slide_type": "slide"
    }
   },
   "source": [
    "Rather than call BMTK's NetworkBuilder directly, SimManager can create networks for us and keep track of saving the appropriate files.\n",
    "\n",
    "(Comments show extra BMTK code that SimManager takes care of.)"
   ]
  },
  {
   "cell_type": "code",
   "execution_count": 4,
   "metadata": {
    "slideshow": {
     "slide_type": "fragment"
    }
   },
   "outputs": [
    {
     "name": "stdout",
     "output_type": "stream",
     "text": [
      "Message: building edges\n",
      "Warning: no edges have been made for this network, skipping saving.\n"
     ]
    }
   ],
   "source": [
    "net = sm.new_network('single')\n",
    "# net = NetworkBuilder('single')\n",
    "net.add_nodes(N=1, **node_props)\n",
    "# net.build()\n",
    "# net.save()\n",
    "\n",
    "virt_net = sm.new_network('input')\n",
    "# virt_net = NetworkBuilder(name)\n",
    "virt_net.add_nodes(N=1, model_type='virtual')\n",
    "virt_net.add_edges(source=virt_net.nodes(), target=net.nodes(), **edge_props)\n",
    "# virt_net.build()\n",
    "# virt_net.save()\n",
    "\n",
    "# This takes care of generating a new spike input file and adding the path to the config\n",
    "sm.write_spikeinput_poisson(virt_net.name, rate=100)\n",
    "\n",
    "sm.add_membrane_report()\n",
    "\n",
    "sm.save_network_files()"
   ]
  },
  {
   "cell_type": "markdown",
   "metadata": {
    "slideshow": {
     "slide_type": "slide"
    }
   },
   "source": [
    "## Then we simulate:\n",
    "- Calls the standard run_bionet.py script, but no need to copy that to the sim directory or to cd to the directory"
   ]
  },
  {
   "cell_type": "code",
   "execution_count": 10,
   "metadata": {
    "slideshow": {
     "slide_type": "subslide"
    }
   },
   "outputs": [
    {
     "name": "stdout",
     "output_type": "stream",
     "text": [
      "/bin/bash: module: line 1: syntax error: unexpected end of file\n",
      "/bin/bash: error importing function definition for `BASH_FUNC_module'\n",
      "NEURON -- VERSION 7.5 master (6b4c19f) 2017-09-25\n",
      "Duke, Yale, and the BlueBrain Project -- Copyright 1984-2016\n",
      "See http://neuron.yale.edu/neuron/credits\n",
      "\n",
      "Additional mechanisms from files\n",
      " modfiles/CaDynamics.mod modfiles/Ca_HVA.mod modfiles/Ca_LVA.mod modfiles/Ih.mod modfiles/Im.mod modfiles/Im_v2.mod modfiles/Kd.mod modfiles/K_P.mod modfiles/K_Pst.mod modfiles/K_T.mod modfiles/K_Tst.mod modfiles/Kv2like.mod modfiles/Kv3_1.mod modfiles/Nap_Et2.mod modfiles/Nap.mod modfiles/NaTa.mod modfiles/NaTa_t.mod modfiles/NaTg.mod modfiles/NaTs2_t.mod modfiles/NaTs.mod modfiles/NaV.mod modfiles/SK.mod modfiles/vecevent.mod\n",
      "\n",
      "numprocs=4\n",
      "2019-02-13 11:43:14,691 [INFO] Created log file\n",
      "2019-02-13 11:43:14,716 [INFO] Running NEURON with mpi (4 cores).\n",
      "2019-02-13 11:43:14,898 [INFO] Building cells.\n",
      "2019-02-13 11:43:15,058 [INFO] Building recurrent connections\n",
      "2019-02-13 11:43:15,058 [INFO] Building virtual cell stimulations for input\n",
      "2019-02-13 11:43:15,075 [WARNING] Was unable to run h5py in parallel (mpi) mode. Saving of membrane variable(s) may slow down.\n",
      "2019-02-13 11:43:15,112 [INFO] Running simulation for 500.000 ms with the time step 0.100 ms\n",
      "2019-02-13 11:43:15,112 [INFO] Starting timestep: 0 at t_sim: 0.000 ms\n",
      "2019-02-13 11:43:15,112 [INFO] Block save every 5000 steps\n",
      "2019-02-13 11:43:16,768 [INFO]     step:5000 t_sim:500.00 ms\n",
      "2019-02-13 11:43:16,958 [INFO] Simulation completed in 1.846 seconds \n",
      "\n"
     ]
    }
   ],
   "source": [
    "sm.run_bionet()\n",
    "\n",
    "# Could also use MPI if we had a larger net to simulate:\n",
    "# sm.run_bionet_mpi(ncores=4)"
   ]
  },
  {
   "cell_type": "markdown",
   "metadata": {},
   "source": [
    "We can call plotting functions from the config path, using that to find the correct sim output files. The plotting functions need work, please contribute!"
   ]
  },
  {
   "cell_type": "code",
   "execution_count": 11,
   "metadata": {},
   "outputs": [
    {
     "data": {
      "image/png": "[encoded data removed]",
      "text/plain": [
       "<Figure size 432x288 with 1 Axes>"
      ]
     },
     "metadata": {
      "needs_background": "light"
     },
     "output_type": "display_data"
    }
   ],
   "source": [
    "from ateam.analysis.cell_vars import plot_v\n",
    "plot_v(sm.config_path)"
   ]
  },
  {
   "cell_type": "markdown",
   "metadata": {},
   "source": [
    "## Loading existing simulations\n",
    "We can use SimManager to load and then modify or duplicate an existing simulation"
   ]
  },
  {
   "cell_type": "code",
   "execution_count": 18,
   "metadata": {},
   "outputs": [],
   "source": [
    "config_path = '/allen/aibs/mat/tmchartrand/bmtk_networks/temp/batch_config.json'\n",
    "sm = SimManager(config_path)"
   ]
  },
  {
   "cell_type": "markdown",
   "metadata": {},
   "source": [
    "These functions duplicate the entire sim folder (clearing the output), and update the node types file for the simple case when only a single type is present"
   ]
  },
  {
   "cell_type": "code",
   "execution_count": 15,
   "metadata": {},
   "outputs": [],
   "source": [
    "folder = '/allen/aibs/mat/tmchartrand/bmtk_networks/temp/new_sim/'\n",
    "sm_new = sm.save_copy(folder, overwrite=True)\n",
    "\n",
    "# Define the node props we want to change (probably those that are cell-specific)\n",
    "node_props = {\n",
    "            'cell_name': cell_id,\n",
    "            'morphology': '{}.swc'.format(cell_id),\n",
    "            'dynamics_params': 'optim_param_{}.json'.format(cell_id)\n",
    "}\n",
    "# We need to know what we named the network to change:\n",
    "net_name = 'single'\n",
    "sm_new.update_node_type_props(net_name, node_props)"
   ]
  },
  {
   "cell_type": "markdown",
   "metadata": {},
   "source": [
    "If we wanted to modify the network in more depth, we can load it more fully, allowing us to add edges to existing nodes:"
   ]
  },
  {
   "cell_type": "markdown",
   "metadata": {},
   "source": [
    "Details to come on this..."
   ]
  }
 ],
 "metadata": {
  "kernelspec": {
   "display_name": "Python [conda env:bmtk]",
   "language": "python",
   "name": "conda-env-bmtk-py"
  },
  "language_info": {
   "codemirror_mode": {
    "name": "ipython",
    "version": 2
   },
   "file_extension": ".py",
   "mimetype": "text/x-python",
   "name": "python",
   "nbconvert_exporter": "python",
   "pygments_lexer": "ipython2",
   "version": "2.7.15"
  }
 },
 "nbformat": 4,
 "nbformat_minor": 2
}
