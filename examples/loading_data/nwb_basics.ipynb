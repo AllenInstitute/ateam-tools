{
 "cells": [
  {
   "cell_type": "code",
   "execution_count": 2,
   "metadata": {},
   "outputs": [],
   "source": [
    "import ateam.data.lims as lims\n",
    "\n",
    "reload(lims)\n",
    "lr = lims.LimsReader()"
   ]
  },
  {
   "cell_type": "markdown",
   "metadata": {},
   "source": [
    "We'll start with a cell in the original human IVSCC database (released in the web product)."
   ]
  },
  {
   "cell_type": "code",
   "execution_count": 3,
   "metadata": {},
   "outputs": [
    {
     "data": {
      "text/html": [
       "<div>\n",
       "<style scoped>\n",
       "    .dataframe tbody tr th:only-of-type {\n",
       "        vertical-align: middle;\n",
       "    }\n",
       "\n",
       "    .dataframe tbody tr th {\n",
       "        vertical-align: top;\n",
       "    }\n",
       "\n",
       "    .dataframe thead th {\n",
       "        text-align: right;\n",
       "    }\n",
       "</style>\n",
       "<table border=\"1\" class=\"dataframe\">\n",
       "  <thead>\n",
       "    <tr style=\"text-align: right;\">\n",
       "      <th></th>\n",
       "      <th>name</th>\n",
       "      <th>normalized_depth</th>\n",
       "      <th>soma_depth_um</th>\n",
       "      <th>structure</th>\n",
       "      <th>donor_name</th>\n",
       "      <th>dendrite_type</th>\n",
       "      <th>layer</th>\n",
       "      <th>project_code</th>\n",
       "      <th>nwb_path</th>\n",
       "    </tr>\n",
       "    <tr>\n",
       "      <th>id</th>\n",
       "      <th></th>\n",
       "      <th></th>\n",
       "      <th></th>\n",
       "      <th></th>\n",
       "      <th></th>\n",
       "      <th></th>\n",
       "      <th></th>\n",
       "      <th></th>\n",
       "      <th></th>\n",
       "    </tr>\n",
       "  </thead>\n",
       "  <tbody>\n",
       "    <tr>\n",
       "      <th>489315717</th>\n",
       "      <td>H15.06.018.02.03.02</td>\n",
       "      <td>None</td>\n",
       "      <td>None</td>\n",
       "      <td>middle temporal gyrus</td>\n",
       "      <td>H15.06.018</td>\n",
       "      <td>dendrite type - spiny</td>\n",
       "      <td>Layer 3</td>\n",
       "      <td>H301</td>\n",
       "      <td>/allen/programs/celltypes/production/humancell...</td>\n",
       "    </tr>\n",
       "  </tbody>\n",
       "</table>\n",
       "</div>"
      ],
      "text/plain": [
       "                          name normalized_depth soma_depth_um  \\\n",
       "id                                                              \n",
       "489315717  H15.06.018.02.03.02             None          None   \n",
       "\n",
       "                       structure  donor_name          dendrite_type    layer  \\\n",
       "id                                                                             \n",
       "489315717  middle temporal gyrus  H15.06.018  dendrite type - spiny  Layer 3   \n",
       "\n",
       "          project_code                                           nwb_path  \n",
       "id                                                                         \n",
       "489315717         H301  /allen/programs/celltypes/production/humancell...  "
      ]
     },
     "execution_count": 3,
     "metadata": {},
     "output_type": "execute_result"
    }
   ],
   "source": [
    "cell_id = 489315717\n",
    "lr.get_cells_df(cells_list=[cell_id])"
   ]
  },
  {
   "cell_type": "markdown",
   "metadata": {},
   "source": [
    "## Accessing basic sweep data"
   ]
  },
  {
   "cell_type": "markdown",
   "metadata": {},
   "source": [
    "The following function is defined in my ateam.data.lims module; we'll go through it piece by piece"
   ]
  },
  {
   "cell_type": "code",
   "execution_count": 4,
   "metadata": {},
   "outputs": [],
   "source": [
    "def get_sweep_v_i_t_lims(cell_id, sweep_num):\n",
    "    lr = LimsReader()\n",
    "    nwb_path = lr.get_nwb_path_from_lims(cell_id)\n",
    "    dataset = NwbDataSet(nwb_path)\n",
    "    v, i, t = get_sweep_v_i_t_from_set(dataset, sweep_num)\n",
    "    return v, i, t"
   ]
  },
  {
   "cell_type": "markdown",
   "metadata": {},
   "source": [
    "Get the path from LIMS:"
   ]
  },
  {
   "cell_type": "code",
   "execution_count": 5,
   "metadata": {},
   "outputs": [
    {
     "name": "stdout",
     "output_type": "stream",
     "text": [
      "/allen/programs/celltypes/production/humancelltypes/prod6/Ephys_Roi_Result_489315715/489315715.nwb\n"
     ]
    }
   ],
   "source": [
    "nwb_path = lr.get_nwb_path_from_lims(cell_id)\n",
    "print(nwb_path)"
   ]
  },
  {
   "cell_type": "markdown",
   "metadata": {},
   "source": [
    "Load the NWB file using the AllenSDK NwbDataSet class:"
   ]
  },
  {
   "cell_type": "code",
   "execution_count": 6,
   "metadata": {},
   "outputs": [],
   "source": [
    "from allensdk.core.nwb_data_set import NwbDataSet\n",
    "dataset = NwbDataSet(nwb_path)"
   ]
  },
  {
   "cell_type": "code",
   "execution_count": 7,
   "metadata": {},
   "outputs": [
    {
     "name": "stdout",
     "output_type": "stream",
     "text": [
      " A very simple interface for exracting electrophysiology data\n",
      "    from an NWB file.\n",
      "    \n"
     ]
    }
   ],
   "source": [
    "print(NwbDataSet.__doc__)"
   ]
  },
  {
   "cell_type": "markdown",
   "metadata": {},
   "source": [
    "This class is mainly useful for its get_sweep method, which pulls out all the data we need for a given sweep into a tidy dict format"
   ]
  },
  {
   "cell_type": "code",
   "execution_count": 8,
   "metadata": {},
   "outputs": [
    {
     "name": "stdout",
     "output_type": "stream",
     "text": [
      " Retrieve the stimulus, response, index_range, and sampling rate\n",
      "        for a particular sweep.  This method hides the NWB file's distinction\n",
      "        between a \"Sweep\" and an \"Experiment\".  An experiment is a subset of\n",
      "        of a sweep that excludes the initial test pulse.  It also excludes\n",
      "        any erroneous response data at the end of the sweep (usually for\n",
      "        ramp sweeps, where recording was terminated mid-stimulus).\n",
      "\n",
      "        Some sweeps do not have an experiment, so full data arrays are\n",
      "        returned.  Sweeps that have an experiment return full data arrays\n",
      "        (include the test pulse) with any erroneous data trimmed from the\n",
      "        back of the sweep.\n",
      "\n",
      "        Parameters\n",
      "        ----------\n",
      "        sweep_number: int\n",
      "\n",
      "        Returns\n",
      "        -------\n",
      "        dict\n",
      "            A dictionary with 'stimulus', 'response', 'index_range', and\n",
      "            'sampling_rate' elements.  The index range is a 2-tuple where\n",
      "            the first element indicates the end of the test pulse and the\n",
      "            second index is the end of valid response data.\n",
      "        \n"
     ]
    }
   ],
   "source": [
    "print(NwbDataSet.get_sweep.__doc__)"
   ]
  },
  {
   "cell_type": "markdown",
   "metadata": {},
   "source": [
    "Note that this docstring is actually misleading - the method never actually trims the sweep itself. You need to use the \"index_range\" to filter the data the proper time interval manually if desired. We do this trimming and unit conversion in the simple function below:"
   ]
  },
  {
   "cell_type": "code",
   "execution_count": 9,
   "metadata": {},
   "outputs": [],
   "source": [
    "def get_sweep_v_i_t_from_set(data_set, sweep_num, window_data=True):\n",
    "    sweep_data = data_set.get_sweep(sweep_num)\n",
    "    i = sweep_data[\"stimulus\"] # in A\n",
    "    v = sweep_data[\"response\"] # in V\n",
    "    if window_data:\n",
    "        index_range = sweep_data[\"index_range\"]\n",
    "        i = i[index_range[0]:index_range[1]]\n",
    "        v = v[index_range[0]:index_range[1]]\n",
    "    i *= 1e12 # to pA\n",
    "    v *= 1e3 # to mV\n",
    "    sampling_rate = sweep_data[\"sampling_rate\"] # in Hz\n",
    "    t = np.arange(0, len(v)) * (1.0 / sampling_rate)\n",
    "    return v, i, t"
   ]
  },
  {
   "cell_type": "markdown",
   "metadata": {},
   "source": [
    "We'll find sweeps of interest by sweep type using LIMS tools, then plot them with this method."
   ]
  },
  {
   "cell_type": "code",
   "execution_count": 10,
   "metadata": {},
   "outputs": [
    {
     "data": {
      "image/png": "[encoded data removed]",
      "text/plain": [
       "<Figure size 432x288 with 2 Axes>"
      ]
     },
     "metadata": {
      "needs_background": "light"
     },
     "output_type": "display_data"
    }
   ],
   "source": [
    "sweeps = lr.get_sweeps(cell_id, sweep_type='Long Square', passed_only=True)\n",
    "sweep_num = sweeps[10]\n",
    "v, i, t = lims.get_sweep_v_i_t_from_set(dataset, sweep_num)\n",
    "lims.plot_sweep(v, i, t)"
   ]
  },
  {
   "cell_type": "code",
   "execution_count": 11,
   "metadata": {},
   "outputs": [
    {
     "data": {
      "image/png": "[encoded data removed]",
      "text/plain": [
       "<Figure size 432x288 with 2 Axes>"
      ]
     },
     "metadata": {
      "needs_background": "light"
     },
     "output_type": "display_data"
    }
   ],
   "source": [
    "sweeps = lr.get_sweeps(cell_id, sweep_type='Short Square - Triple', passed_only=True)\n",
    "sweep_num = sweeps[0]\n",
    "v, i, t = lims.get_sweep_v_i_t_from_set(dataset, sweep_num)\n",
    "lims.plot_sweep(v, i, t)"
   ]
  },
  {
   "cell_type": "markdown",
   "metadata": {},
   "source": [
    "Note that we could also do this just with a call to `lims.plot_sweep_lims(cell_id, sweep_num)`"
   ]
  },
  {
   "cell_type": "markdown",
   "metadata": {},
   "source": [
    "## Sending to AllenSDK feature extraction"
   ]
  },
  {
   "cell_type": "code",
   "execution_count": 12,
   "metadata": {},
   "outputs": [],
   "source": [
    "from allensdk.ephys.ephys_extractor import EphysSweepFeatureExtractor\n",
    "sweep = EphysSweepFeatureExtractor(t=t, v=v, i=i)\n",
    "sweep.process_spikes()"
   ]
  },
  {
   "cell_type": "code",
   "execution_count": 13,
   "metadata": {},
   "outputs": [
    {
     "data": {
      "text/plain": [
       "{'adp_i': nan,\n",
       " 'adp_index': nan,\n",
       " 'adp_t': nan,\n",
       " 'adp_v': nan,\n",
       " 'clipped': False,\n",
       " 'downstroke': -115.41178767441555,\n",
       " 'downstroke_index': 63654,\n",
       " 'downstroke_t': 1.2730800000000002,\n",
       " 'downstroke_v': 20.53125,\n",
       " 'fast_trough_i': 0,\n",
       " 'fast_trough_index': 63720,\n",
       " 'fast_trough_t': 1.2744000000000002,\n",
       " 'fast_trough_v': -54.40625,\n",
       " 'isi_type': 'direct',\n",
       " 'peak_i': 650,\n",
       " 'peak_index': 63637,\n",
       " 'peak_t': 1.2727400000000002,\n",
       " 'peak_v': 42.125,\n",
       " 'slow_trough_i': nan,\n",
       " 'slow_trough_index': nan,\n",
       " 'slow_trough_t': nan,\n",
       " 'slow_trough_v': nan,\n",
       " 'threshold_i': 650,\n",
       " 'threshold_index': 63613,\n",
       " 'threshold_t': 1.2722600000000002,\n",
       " 'threshold_v': -43.281253814697266,\n",
       " 'trough_i': 0,\n",
       " 'trough_index': 63731,\n",
       " 'trough_t': 1.27462,\n",
       " 'trough_v': -54.625,\n",
       " 'upstroke': 352.29751302805363,\n",
       " 'upstroke_downstroke_ratio': 3.0525262637981894,\n",
       " 'upstroke_index': 63625,\n",
       " 'upstroke_t': 1.2725000000000002,\n",
       " 'upstroke_v': -4.562500476837158,\n",
       " 'width': 0.0008799999999999919}"
      ]
     },
     "execution_count": 13,
     "metadata": {},
     "output_type": "execute_result"
    }
   ],
   "source": [
    "sweep.spikes()[0]"
   ]
  },
  {
   "cell_type": "markdown",
   "metadata": {},
   "source": [
    "### What about MET cells?"
   ]
  },
  {
   "cell_type": "markdown",
   "metadata": {},
   "source": [
    "The should all work essentially the same for cells in the MET dataset for instance, with a possible issues shown below. In this case, the long square sweeps are fine, but not the triblip."
   ]
  },
  {
   "cell_type": "code",
   "execution_count": 14,
   "metadata": {},
   "outputs": [
    {
     "data": {
      "text/html": [
       "<div>\n",
       "<style scoped>\n",
       "    .dataframe tbody tr th:only-of-type {\n",
       "        vertical-align: middle;\n",
       "    }\n",
       "\n",
       "    .dataframe tbody tr th {\n",
       "        vertical-align: top;\n",
       "    }\n",
       "\n",
       "    .dataframe thead th {\n",
       "        text-align: right;\n",
       "    }\n",
       "</style>\n",
       "<table border=\"1\" class=\"dataframe\">\n",
       "  <thead>\n",
       "    <tr style=\"text-align: right;\">\n",
       "      <th></th>\n",
       "      <th>name</th>\n",
       "      <th>normalized_depth</th>\n",
       "      <th>soma_depth_um</th>\n",
       "      <th>structure</th>\n",
       "      <th>donor_name</th>\n",
       "      <th>dendrite_type</th>\n",
       "      <th>layer</th>\n",
       "      <th>project_code</th>\n",
       "      <th>nwb_path</th>\n",
       "    </tr>\n",
       "    <tr>\n",
       "      <th>id</th>\n",
       "      <th></th>\n",
       "      <th></th>\n",
       "      <th></th>\n",
       "      <th></th>\n",
       "      <th></th>\n",
       "      <th></th>\n",
       "      <th></th>\n",
       "      <th></th>\n",
       "      <th></th>\n",
       "    </tr>\n",
       "  </thead>\n",
       "  <tbody>\n",
       "    <tr>\n",
       "      <th>651059305</th>\n",
       "      <td>Rbp4-Cre_KL100;Ai14-362155.04.02.03</td>\n",
       "      <td>0.56945</td>\n",
       "      <td>608.233429</td>\n",
       "      <td>Primary visual area, layer 5</td>\n",
       "      <td>Rbp4-Cre_KL100;Ai14-362155</td>\n",
       "      <td>None</td>\n",
       "      <td>Layer 5</td>\n",
       "      <td>mIVSCC-MET</td>\n",
       "      <td>/allen/programs/celltypes/production/mousecell...</td>\n",
       "    </tr>\n",
       "  </tbody>\n",
       "</table>\n",
       "</div>"
      ],
      "text/plain": [
       "                                          name  normalized_depth  \\\n",
       "id                                                                 \n",
       "651059305  Rbp4-Cre_KL100;Ai14-362155.04.02.03           0.56945   \n",
       "\n",
       "           soma_depth_um                     structure  \\\n",
       "id                                                       \n",
       "651059305     608.233429  Primary visual area, layer 5   \n",
       "\n",
       "                           donor_name dendrite_type    layer project_code  \\\n",
       "id                                                                          \n",
       "651059305  Rbp4-Cre_KL100;Ai14-362155          None  Layer 5   mIVSCC-MET   \n",
       "\n",
       "                                                    nwb_path  \n",
       "id                                                            \n",
       "651059305  /allen/programs/celltypes/production/mousecell...  "
      ]
     },
     "execution_count": 14,
     "metadata": {},
     "output_type": "execute_result"
    }
   ],
   "source": [
    "cell_id = 651059305\n",
    "lr.get_cells_df(cells_list=[cell_id])\n",
    "\n",
    "nwb_path = lr.get_nwb_path_from_lims(cell_id)\n",
    "dataset = NwbDataSet(nwb_path)\n",
    "lr.get_cells_df(cells_list=[cell_id])"
   ]
  },
  {
   "cell_type": "code",
   "execution_count": 15,
   "metadata": {},
   "outputs": [
    {
     "data": {
      "image/png": "[encoded data removed]",
      "text/plain": [
       "<Figure size 432x288 with 2 Axes>"
      ]
     },
     "metadata": {
      "needs_background": "light"
     },
     "output_type": "display_data"
    }
   ],
   "source": [
    "sweeps = lr.get_sweeps(cell_id, sweep_type='Long Square', passed_only=True)\n",
    "sweep_num = sweeps[0]\n",
    "v, i, t = lims.get_sweep_v_i_t_from_set(dataset, sweep_num)\n",
    "lims.plot_sweep(v, i, t)"
   ]
  },
  {
   "cell_type": "markdown",
   "metadata": {},
   "source": [
    "In this case, the triblip sweeps apparently did not pass QC (in general, the QC flag is unlikely to be reliable for new datasets, so it's best not to use it without finding out details first).\n",
    "\n",
    "Additionally, the start/end times stored in the file are wrong (maybe related to the QC issue), so the windowed plot is wrong, but we can still plot the full sweep, including the test pulse (and could start our analysis from there).\n",
    "\n",
    "Note that (like my code here), some of the AllenSDK feature extraction methods in `allensdk.ephys.ephys_extractor` do this windowing automatically, and so may fail in some cases for early-stage or off-pipeline data if not used with care. Any method that starts with timeseries input directly (like our call to `EphysSweepFeatureExtractor(t=t, v=v, i=i)` above) will still be fine."
   ]
  },
  {
   "cell_type": "code",
   "execution_count": 16,
   "metadata": {},
   "outputs": [
    {
     "name": "stdout",
     "output_type": "stream",
     "text": [
      "0 sweeps passed\n",
      "33 sweeps total\n"
     ]
    },
    {
     "data": {
      "image/png": "[encoded data removed]",
      "text/plain": [
       "<Figure size 432x288 with 2 Axes>"
      ]
     },
     "metadata": {
      "needs_background": "light"
     },
     "output_type": "display_data"
    }
   ],
   "source": [
    "sweeps = lr.get_sweeps(cell_id, sweep_type='Short Square - Triple', passed_only=True)\n",
    "print(\"{} sweeps passed\".format(len(sweeps)) )\n",
    "sweeps = lr.get_sweeps(cell_id, sweep_type='Short Square - Triple', passed_only=False)\n",
    "print(\"{} sweeps total\".format(len(sweeps)) )\n",
    "sweep_num = sweeps[0]\n",
    "v, i, t = lims.get_sweep_v_i_t_from_set(dataset, sweep_num, window_data=True)\n",
    "lims.plot_sweep(v, i, t)"
   ]
  },
  {
   "cell_type": "code",
   "execution_count": 17,
   "metadata": {},
   "outputs": [
    {
     "data": {
      "image/png": "[encoded data removed]",
      "text/plain": [
       "<Figure size 432x288 with 2 Axes>"
      ]
     },
     "metadata": {
      "needs_background": "light"
     },
     "output_type": "display_data"
    }
   ],
   "source": [
    "v, i, t = lims.get_sweep_v_i_t_from_set(dataset, sweep_num, window_data=False)\n",
    "lims.plot_sweep(v, i, t)"
   ]
  },
  {
   "cell_type": "markdown",
   "metadata": {},
   "source": [
    "### Accessing through h5 directly"
   ]
  },
  {
   "cell_type": "markdown",
   "metadata": {},
   "source": [
    "If we didn't have access to the LIMS info to decide which sweeps to look at by type, we could also use information embedded in the file itself, in the field `aibs_stimulus_description`.\n",
    "However, interpreting this information correctly may be trickier, as it is less standardized. (This is what Anatoly's `convert_igor_nwb.py` does.)\n",
    "\n",
    "Note also that, as Luke reminded us, there may be other hidden pitfalls with reading any data directly from the h5."
   ]
  },
  {
   "cell_type": "code",
   "execution_count": 18,
   "metadata": {},
   "outputs": [
    {
     "name": "stdout",
     "output_type": "stream",
     "text": [
      "C2SSTRIPLE171103_DA_0\n"
     ]
    }
   ],
   "source": [
    "import h5py\n",
    "f = h5py.File(nwb_path, \"r\")\n",
    "\n",
    "stim_desc_path = 'acquisition/timeseries/Sweep_{}/aibs_stimulus_description/'.format(sweep_num)\n",
    "print(f.get(stim_desc_path).value[0])"
   ]
  },
  {
   "cell_type": "markdown",
   "metadata": {},
   "source": [
    "## Accessing the \"web version\" NWB through LIMS\n",
    "\n",
    "LIMS actually can have several different NWB types, distinguished by their \"well_known_file_type\"\n",
    "\n",
    "NWB \t\n",
    "NWBUncompressed \t\n",
    "NWBDownload \t\n",
    "NWBISI \t\n",
    "NWBOphys \t\n",
    "NWBIgor \t\n",
    "NWB2 \n",
    "\n"
   ]
  },
  {
   "cell_type": "markdown",
   "metadata": {},
   "source": [
    "The *NWBDownload* type is (I believe) the processed version used in the web product. We can ask my function to return that version too.\n",
    "\n",
    "We see that it now contains metadata in the sweeps."
   ]
  },
  {
   "cell_type": "code",
   "execution_count": 19,
   "metadata": {},
   "outputs": [
    {
     "name": "stdout",
     "output_type": "stream",
     "text": [
      "/allen/programs/celltypes/production/humancelltypes/prod6/Ephys_Roi_Result_489315715/489315715_ephys.nwb\n"
     ]
    }
   ],
   "source": [
    "cell_id = 489315717\n",
    "nwb_path =lr.get_nwb_path_from_lims(cell_id, get_sdk_version=True)\n",
    "dataset = NwbDataSet(nwb_path)\n",
    "print(nwb_path)"
   ]
  },
  {
   "cell_type": "code",
   "execution_count": 20,
   "metadata": {},
   "outputs": [
    {
     "data": {
      "image/png": "[encoded data removed]",
      "text/plain": [
       "<Figure size 432x288 with 2 Axes>"
      ]
     },
     "metadata": {
      "needs_background": "light"
     },
     "output_type": "display_data"
    }
   ],
   "source": [
    "sweeps = lr.get_sweeps(cell_id, sweep_type='Long Square', passed_only=True)\n",
    "sweep_num = sweeps[10]\n",
    "v, i, t = lims.get_sweep_v_i_t_from_set(dataset, sweep_num)\n",
    "lims.plot_sweep(v, i, t)"
   ]
  },
  {
   "cell_type": "code",
   "execution_count": 21,
   "metadata": {},
   "outputs": [
    {
     "data": {
      "text/plain": [
       "{'aibs_stimulus_amplitude_pa': 149.999998533268,\n",
       " 'aibs_stimulus_name': u'Long Square',\n",
       " 'initial_access_resistance': 7.9403255,\n",
       " 'seal': 1.389192192}"
      ]
     },
     "execution_count": 21,
     "metadata": {},
     "output_type": "execute_result"
    }
   ],
   "source": [
    "dataset.get_sweep_metadata(sweep_num)"
   ]
  },
  {
   "cell_type": "code",
   "execution_count": 22,
   "metadata": {},
   "outputs": [
    {
     "data": {
      "image/png": "[encoded data removed]",
      "text/plain": [
       "<Figure size 432x288 with 2 Axes>"
      ]
     },
     "metadata": {
      "needs_background": "light"
     },
     "output_type": "display_data"
    }
   ],
   "source": [
    "sweeps = lr.get_sweeps(cell_id, sweep_type='Short Square - Triple', passed_only=True)\n",
    "sweep_num = sweeps[0]\n",
    "v, i, t = lims.get_sweep_v_i_t_from_set(dataset, sweep_num)\n",
    "lims.plot_sweep(v, i, t)"
   ]
  },
  {
   "cell_type": "code",
   "execution_count": 23,
   "metadata": {},
   "outputs": [
    {
     "data": {
      "text/plain": [
       "{'aibs_stimulus_amplitude_pa': 649.99999827009,\n",
       " 'aibs_stimulus_name': u'Short Square - Triple',\n",
       " 'initial_access_resistance': 7.9403255,\n",
       " 'seal': 1.389192192}"
      ]
     },
     "execution_count": 23,
     "metadata": {},
     "output_type": "execute_result"
    }
   ],
   "source": [
    "dataset.get_sweep_metadata(sweep_num)"
   ]
  }
 ],
 "metadata": {
  "kernelspec": {
   "display_name": "Python [conda env:bmtk_ateam]",
   "language": "python",
   "name": "conda-env-bmtk_ateam-py"
  },
  "language_info": {
   "codemirror_mode": {
    "name": "ipython",
    "version": 2
   },
   "file_extension": ".py",
   "mimetype": "text/x-python",
   "name": "python",
   "nbconvert_exporter": "python",
   "pygments_lexer": "ipython2",
   "version": "2.7.15"
  }
 },
 "nbformat": 4,
 "nbformat_minor": 2
}
