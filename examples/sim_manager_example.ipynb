{
 "cells": [
  {
   "cell_type": "code",
   "execution_count": 1,
   "metadata": {},
   "outputs": [],
   "source": [
    "template = \"/allen/aibs/mat/tmchartrand/bmtk_networks/biophys_components_shared/default_config.json\"\n",
    "folder = \"/allen/aibs/mat/tmchartrand/bmtk_networks/test_manager\"\n",
    "# import ateam.sim.tom as sim\n",
    "import ateam.sim.setup as sim\n",
    "sm = sim.SimManager(config_template=template, overwrite=True, sim_folder=folder)"
   ]
  },
  {
   "cell_type": "code",
   "execution_count": 2,
   "metadata": {},
   "outputs": [],
   "source": [
    "cells_dict = {\n",
    "    \"fs\": [571709783, 529807751],\n",
    "    \"rs\": [571700636],\n",
    "    \"adapting\": [531520637, 488418027],\n",
    "    \"pc2\": [525133308],\n",
    "    \"pc3\": [508417989]\n",
    "}\n",
    "\n",
    "import numpy as np\n",
    "from bmtk.builder.networks import NetworkBuilder\n",
    "from bmtk.builder.aux.node_params import positions_columinar, xiter_random\n",
    "import bmtk.utils.sim_setup as setup\n",
    "import bmtk.custom.batch_builder as bb\n",
    "import ateam.sim.setup.default_props as defaults\n",
    "\n",
    "\n",
    "net = NetworkBuilder('hcm')\n",
    "sm.add_network(net)\n",
    "Ne = 50\n",
    "Ni = 10\n",
    "height = 50\n",
    "\n",
    "cell_id = cells_dict['pc2'][0]\n",
    "net.add_nodes(N=Ne, ei='e', pop_name='e_peri',\n",
    "                 positions=positions_columinar(N=Ne, center=[0, 0, 0], max_radius=30.0, height=height),\n",
    "                 rotation_angle_yaxis=xiter_random(N=Ne, min_x=0.0, max_x=2*np.pi),\n",
    "                 rotation_angle_zaxis=3.646878266,\n",
    "                **defaults.cellprops_peri(cell_id))\n",
    "\n",
    "cell_id = cells_dict['fs'][0]\n",
    "net.add_nodes(N=Ni, ei='i', pop_name='i_peri',\n",
    "                 positions=positions_columinar(N=Ni, center=[0, 0, 0], max_radius=30.0, height=height),\n",
    "                 rotation_angle_yaxis=xiter_random(N=Ni, min_x=0.0, max_x=2*np.pi),\n",
    "                 rotation_angle_zaxis=3.646878266,\n",
    "                **defaults.cellprops_peri(cell_id))\n",
    "\n",
    "\n",
    "from bmtk.builder.aux.edge_connectors import distance_connector\n",
    "### Generating E-to-E connections\n",
    "net.add_edges(source={'ei': 'e'}, target={'ei': 'e', 'model_type': 'biophysical'},\n",
    "             connection_rule=distance_connector,\n",
    "             connection_params={'d_weight_min': 0.0, 'd_weight_max': 0.34, 'd_max': 300.0, 'nsyn_min': 3, 'nsyn_max': 7},\n",
    "             syn_weight=2e-4,\n",
    "             distance_range=[30.0, 150.0],\n",
    "             target_sections=['basal', 'apical'],\n",
    "             delay=2.0,\n",
    "             dynamics_params='AMPA_ExcToExc.json',\n",
    "             model_template='exp2syn')\n",
    "\n",
    "### Generating I-to-I connections\n",
    "net.add_edges(source={'ei': 'i'}, target={'ei': 'i', 'model_type': 'biophysical'},\n",
    "              connection_rule=distance_connector,\n",
    "              connection_params={'d_weight_min': 0.0, 'd_weight_max': 1.0, 'd_max': 160.0, 'nsyn_min': 3, 'nsyn_max': 7},\n",
    "              syn_weight=2e-4,\n",
    "              distance_range=[0.0, 1e+20],\n",
    "              target_sections=['somatic', 'basal'],\n",
    "              delay=2.0,\n",
    "              dynamics_params='GABA_InhToInh.json',\n",
    "              model_template='exp2syn')\n",
    "\n",
    "### Generating I-to-E connections\n",
    "net.add_edges(source={'ei': 'i'}, target={'ei': 'e', 'model_type': 'biophysical'},\n",
    "              connection_rule=distance_connector,\n",
    "              connection_params={'d_weight_min': 0.0, 'd_weight_max': 1.0, 'd_max': 160.0, 'nsyn_min': 3, 'nsyn_max': 7},\n",
    "              syn_weight=1.0e-4,#1.8e-4\n",
    "              distance_range=[0.0, 50.0],\n",
    "              target_sections=['somatic', 'basal', 'apical'],\n",
    "              delay=2.0,\n",
    "              dynamics_params='GABA_InhToExc.json',\n",
    "              model_template='exp2syn')\n",
    "\n",
    "### Generating E-to-I connections\n",
    "net.add_edges(source={'ei': 'e'}, target={'ei': 'i', 'model_type': 'biophysical'},\n",
    "              connection_rule=distance_connector,\n",
    "              connection_params={'d_weight_min': 0.0, 'd_weight_max': 0.26, 'd_max': 300.0, 'nsyn_min': 3, 'nsyn_max': 7},\n",
    "              syn_weight=1.0e-4,#3.5e-4\n",
    "              distance_range=[0.0, 1e+20],\n",
    "              target_sections=['somatic', 'basal'],\n",
    "              delay=2.0,\n",
    "              dynamics_params='AMPA_ExcToInh.json',\n",
    "              model_template='exp2syn')\n",
    "net.build()"
   ]
  },
  {
   "cell_type": "code",
   "execution_count": 3,
   "metadata": {},
   "outputs": [],
   "source": [
    "from bmtk.builder.networks import NetworkBuilder\n",
    "\n",
    "lgn = NetworkBuilder('LGN')\n",
    "sm.add_network(lgn)\n",
    "lgn.add_nodes(N=500,\n",
    "              pop_name='tON',\n",
    "              potential='exc',\n",
    "              model_type='virtual')\n",
    "\n",
    "def select_source_cells(sources, target, nsources_min=10, nsources_max=30, nsyns_min=3, nsyns_max=12):\n",
    "    total_sources = len(sources)\n",
    "    nsources = np.random.randint(nsources_min, nsources_max)\n",
    "    selected_sources = np.random.choice(total_sources, nsources, replace=False)\n",
    "    syns = np.zeros(total_sources)\n",
    "    syns[selected_sources] = np.random.randint(nsyns_min, nsyns_max, size=nsources)\n",
    "    return syns\n",
    "\n",
    "lgn.add_edges(source=lgn.nodes(), target=net.nodes(**{'ei': 'e', 'model_type': 'biophysical'}),\n",
    "              iterator='all_to_one',\n",
    "              connection_rule=select_source_cells,\n",
    "              connection_params={'nsources_min': 10, 'nsources_max': 25},\n",
    "              syn_weight=4e-03,\n",
    "              weight_function='wmax',\n",
    "              distance_range=[0.0, 150.0],\n",
    "              target_sections=['basal', 'apical'],\n",
    "              delay=2.0,\n",
    "              dynamics_params='AMPA_ExcToExc.json',\n",
    "              model_template='exp2syn')\n",
    "\n",
    "lgn.add_edges(source=lgn.nodes(), target=net.nodes(**{'ei': 'i', 'model_type': 'biophysical'}),\n",
    "              connection_rule=select_source_cells,\n",
    "              connection_params={'nsources_min': 15, 'nsources_max': 30},\n",
    "              iterator='all_to_one',\n",
    "              syn_weight=0.001,\n",
    "              weight_function='wmax',\n",
    "              distance_range=[0.0, 1.0e+20],\n",
    "              target_sections=['somatic', 'basal'],\n",
    "              delay=2.0,\n",
    "              dynamics_params='AMPA_ExcToInh.json',\n",
    "              model_template='exp2syn')\n",
    "\n",
    "lgn.build()"
   ]
  },
  {
   "cell_type": "code",
   "execution_count": 4,
   "metadata": {},
   "outputs": [],
   "source": [
    "sm.add_network(net)\n",
    "sm.add_network(lgn)\n",
    "sm.save_network_files()"
   ]
  },
  {
   "cell_type": "code",
   "execution_count": 5,
   "metadata": {},
   "outputs": [],
   "source": [
    "# import ateam.sim.tom as sim\n",
    "# sm = sim.SimManager()\n",
    "input_file = \"lgn_spikes.nwb\"\n",
    "trial = \"trial_0\"\n",
    "sm.add_spike_input(input_file, 'LGN', trial=trial)"
   ]
  },
  {
   "cell_type": "code",
   "execution_count": 6,
   "metadata": {},
   "outputs": [],
   "source": [
    "# sm.set_sim_time(500)\n",
    "# sm.run_bionet()"
   ]
  },
  {
   "cell_type": "code",
   "execution_count": 7,
   "metadata": {},
   "outputs": [
    {
     "name": "stdout",
     "output_type": "stream",
     "text": [
      "2018-11-08 15:04:34,294 [INFO] Created log file\n",
      "2018-11-08 15:04:34,588 [INFO] Building cells.\n",
      "2018-11-08 15:04:42,404 [INFO] Building recurrent connections\n",
      "2018-11-08 15:04:44,193 [INFO] Build virtual cell stimulations for LGN\n",
      "2018-11-08 15:04:45,241 [INFO] Running simulation for 500.000 ms with the time step 0.100 ms\n",
      "2018-11-08 15:04:45,242 [INFO] Starting timestep: 0 at t_sim: 0.000 ms\n",
      "2018-11-08 15:04:45,244 [INFO] Block save every 5000 steps\n",
      "2018-11-08 15:04:49,801 [INFO]     step:5000 t_sim:500.00 ms\n",
      "2018-11-08 15:04:50,009 [INFO] Simulation completed in 4.768 seconds \n"
     ]
    }
   ],
   "source": [
    "# import ateam.sim.tom as sim\n",
    "# sm = sim.SimManager()\n",
    "sm.set_sim_time(500)\n",
    "# sm.add_ecp_report()\n",
    "\n",
    "sm.run_bionet_mpi(ncores=4)"
   ]
  },
  {
   "cell_type": "code",
   "execution_count": 8,
   "metadata": {},
   "outputs": [
    {
     "data": {
      "image/png": "[encoded data removed]",
      "text/plain": [
       "<Figure size 432x288 with 2 Axes>"
      ]
     },
     "metadata": {
      "needs_background": "light"
     },
     "output_type": "display_data"
    }
   ],
   "source": [
    "%matplotlib inline\n",
    "# import ateam.sim.tom as sim\n",
    "# sm = sim.SimManager()\n",
    "sm.plot_raster('hcm')"
   ]
  },
  {
   "cell_type": "code",
   "execution_count": 12,
   "metadata": {},
   "outputs": [
    {
     "name": "stdout",
     "output_type": "stream",
     "text": [
      "#!/bin/bash\n",
      "#PBS -W x=QOS:low\n",
      "#PBS -q mindscope\n",
      "#PBS -N bmtk_test\n",
      "#PBS -M tom.chartrand@alleninstitute.org\n",
      "#PBS -m abe\n",
      "#PBS -r n\n",
      "#PBS -l nodes=1:ppn=1\n",
      "#PBS -l vmem=10g,walltime=00:05:00\n",
      "#PBS -d /allen/aibs/mat/tmchartrand/bmtk_networks/test_manager\n",
      "#PBS -o $PBS_JOBID.out\n",
      "#PBS -e $PBS_JOBID.err\n",
      "source activate bmtk\n",
      "python -c \"from ateam.sim.run import runner; runner.run_bionet(\\\"/allen/aibs/mat/tmchartrand/bmtk_networks/test_manager/config.json\\\")\" \n",
      "\n"
     ]
    },
    {
     "data": {
      "text/plain": [
       "''"
      ]
     },
     "execution_count": 12,
     "metadata": {},
     "output_type": "execute_result"
    }
   ],
   "source": [
    "from ateam.sim.run import pbstools\n",
    "from ateam.sim.run import runner\n",
    "options = {\n",
    "    'email':'tom.chartrand@alleninstitute.org',\n",
    "    'email_options':'abe',\n",
    "    'jobname':'bmtk_test',\n",
    "    'walltime':'00:05:00',\n",
    "    'nodes':1}\n",
    "command = runner.pycommand.format(config=sm.config.path)\n",
    "job = pbstools.PythonJob(command=command, jobdir=sm.sim_folder, conda_env='bmtk', **options)\n",
    "job.run()"
   ]
  }
 ],
 "metadata": {
  "kernelspec": {
   "display_name": "Python [conda env:bmtk]",
   "language": "python",
   "name": "conda-env-bmtk-py"
  },
  "language_info": {
   "codemirror_mode": {
    "name": "ipython",
    "version": 2
   },
   "file_extension": ".py",
   "mimetype": "text/x-python",
   "name": "python",
   "nbconvert_exporter": "python",
   "pygments_lexer": "ipython2",
   "version": "2.7.15"
  }
 },
 "nbformat": 4,
 "nbformat_minor": 2
}
