{
 "cells": [
  {
   "cell_type": "markdown",
   "metadata": {
    "slideshow": {
     "slide_type": "slide"
    }
   },
   "source": [
    "## Creating a simple single-cell simulation, using new tools\n",
    "First we make some imports from the ateam package, and create a SimManager for a new simulation.\n",
    "\n",
    "This will give us a basic config file to work from, and place it in a new folder."
   ]
  },
  {
   "cell_type": "code",
   "execution_count": 1,
   "metadata": {
    "slideshow": {
     "slide_type": "subslide"
    }
   },
   "outputs": [
    {
     "ename": "ImportError",
     "evalue": "cannot import name ConfigDict",
     "output_type": "error",
     "traceback": [
      "\u001b[0;31m---------------------------------------------------------------------------\u001b[0m",
      "\u001b[0;31mImportError\u001b[0m                               Traceback (most recent call last)",
      "\u001b[0;32m<ipython-input-1-4c229cf9d755>\u001b[0m in \u001b[0;36m<module>\u001b[0;34m()\u001b[0m\n\u001b[0;32m----> 1\u001b[0;31m \u001b[0;32mfrom\u001b[0m \u001b[0mateam\u001b[0m\u001b[0;34m.\u001b[0m\u001b[0msim\u001b[0m\u001b[0;34m.\u001b[0m\u001b[0msetup\u001b[0m \u001b[0;32mimport\u001b[0m \u001b[0mSimManager\u001b[0m\u001b[0;34m\u001b[0m\u001b[0m\n\u001b[0m\u001b[1;32m      2\u001b[0m \u001b[0;32mimport\u001b[0m \u001b[0mnumpy\u001b[0m \u001b[0;32mas\u001b[0m \u001b[0mnp\u001b[0m\u001b[0;34m\u001b[0m\u001b[0m\n\u001b[1;32m      3\u001b[0m \u001b[0mget_ipython\u001b[0m\u001b[0;34m(\u001b[0m\u001b[0;34m)\u001b[0m\u001b[0;34m.\u001b[0m\u001b[0mmagic\u001b[0m\u001b[0;34m(\u001b[0m\u001b[0;34mu'matplotlib inline'\u001b[0m\u001b[0;34m)\u001b[0m\u001b[0;34m\u001b[0m\u001b[0m\n\u001b[1;32m      4\u001b[0m \u001b[0;34m\u001b[0m\u001b[0m\n\u001b[1;32m      5\u001b[0m \u001b[0;31m# Specify the sim folder and a template file\u001b[0m\u001b[0;34m\u001b[0m\u001b[0;34m\u001b[0m\u001b[0m\n",
      "\u001b[0;32m/allen/programs/braintv/workgroups/v1column/yinaw/git_ateam/ateam-tools/ateam/sim/setup/__init__.py\u001b[0m in \u001b[0;36m<module>\u001b[0;34m()\u001b[0m\n\u001b[1;32m     21\u001b[0m \u001b[0;31m# OF THIS SOFTWARE, EVEN IF ADVISED OF THE POSSIBILITY OF SUCH DAMAGE.\u001b[0m\u001b[0;34m\u001b[0m\u001b[0;34m\u001b[0m\u001b[0m\n\u001b[1;32m     22\u001b[0m \u001b[0;31m#\u001b[0m\u001b[0;34m\u001b[0m\u001b[0;34m\u001b[0m\u001b[0m\n\u001b[0;32m---> 23\u001b[0;31m \u001b[0;32mfrom\u001b[0m \u001b[0;34m.\u001b[0m\u001b[0msim_manager\u001b[0m \u001b[0;32mimport\u001b[0m \u001b[0mSimManager\u001b[0m\u001b[0;34m\u001b[0m\u001b[0m\n\u001b[0m\u001b[1;32m     24\u001b[0m \u001b[0;32mfrom\u001b[0m \u001b[0;34m.\u001b[0m\u001b[0mconfig_class\u001b[0m \u001b[0;32mimport\u001b[0m \u001b[0mConfigBuilder\u001b[0m\u001b[0;34m\u001b[0m\u001b[0m\n",
      "\u001b[0;32m/allen/programs/braintv/workgroups/v1column/yinaw/git_ateam/ateam-tools/ateam/sim/setup/sim_manager.py\u001b[0m in \u001b[0;36m<module>\u001b[0;34m()\u001b[0m\n\u001b[1;32m      6\u001b[0m \u001b[0;32mfrom\u001b[0m \u001b[0mcollections\u001b[0m \u001b[0;32mimport\u001b[0m \u001b[0mdefaultdict\u001b[0m\u001b[0;34m\u001b[0m\u001b[0m\n\u001b[1;32m      7\u001b[0m \u001b[0;31m# import bmtk.simulator.utils.config as config\u001b[0m\u001b[0;34m\u001b[0m\u001b[0;34m\u001b[0m\u001b[0m\n\u001b[0;32m----> 8\u001b[0;31m \u001b[0;32mfrom\u001b[0m \u001b[0mbmtk\u001b[0m\u001b[0;34m.\u001b[0m\u001b[0msimulator\u001b[0m\u001b[0;34m.\u001b[0m\u001b[0mutils\u001b[0m\u001b[0;34m.\u001b[0m\u001b[0mconfig\u001b[0m \u001b[0;32mimport\u001b[0m \u001b[0mConfigDict\u001b[0m\u001b[0;34m\u001b[0m\u001b[0m\n\u001b[0m\u001b[1;32m      9\u001b[0m \u001b[0;32mfrom\u001b[0m \u001b[0mbmtk\u001b[0m\u001b[0;34m.\u001b[0m\u001b[0mutils\u001b[0m\u001b[0;34m.\u001b[0m\u001b[0mio\u001b[0m\u001b[0;34m.\u001b[0m\u001b[0mspike_trains\u001b[0m \u001b[0;32mimport\u001b[0m \u001b[0mPoissonSpikesGenerator\u001b[0m\u001b[0;34m\u001b[0m\u001b[0m\n\u001b[1;32m     10\u001b[0m \u001b[0;32mimport\u001b[0m \u001b[0mbmtk\u001b[0m\u001b[0;34m.\u001b[0m\u001b[0mbuilder\u001b[0m\u001b[0;34m.\u001b[0m\u001b[0mnetworks\u001b[0m \u001b[0;32mas\u001b[0m \u001b[0mbuildnet\u001b[0m\u001b[0;34m\u001b[0m\u001b[0m\n",
      "\u001b[0;31mImportError\u001b[0m: cannot import name ConfigDict"
     ]
    }
   ],
   "source": [
    "from ateam.sim.setup import SimManager\n",
    "import numpy as np\n",
    "%matplotlib inline\n",
    "\n",
    "# Specify the sim folder and a template file\n",
    "new_config = '/allen/aibs/mat/tmchartrand/bmtk_networks/temp/batch_config.json'\n",
    "config_template = \"/allen/aibs/mat/tmchartrand/bmtk_networks/biophys_components_shared/default_config.json\"\n",
    "\n",
    "sm = SimManager.from_template(config_template=config_template, overwrite=True, config_path=new_config)"
   ]
  },
  {
   "cell_type": "markdown",
   "metadata": {},
   "source": [
    "Here is one way we could get more info about this function (you can also see this in a pop-up by pressing shift-tab inside a function call."
   ]
  },
  {
   "cell_type": "code",
   "execution_count": null,
   "metadata": {},
   "outputs": [],
   "source": [
    "help(SimManager.from_template)"
   ]
  },
  {
   "cell_type": "markdown",
   "metadata": {},
   "source": [
    "### Where to store shared simulation files?\n",
    "In my personal config template, I define the basic properties that I want fixed across many different simulations (dt, spike_threshold, etc). \n",
    "\n",
    "I also refer to a shared components directory that sits on the network, so I can download all my morphology and params files to that location, and work from a single copy of the modfiles also. This isn't necessary for the rest of the code to work. If others use this approach, though, we could share a single components directory across the group.\n",
    "\n",
    "For now, I could also set `\"biophysical_neuron_models_dir\": \"/allen/aibs/mat/ateam_shared/All_active_params\"` to use Ani's results directly."
   ]
  },
  {
   "cell_type": "markdown",
   "metadata": {},
   "source": [
    "```\n",
    "{\n",
    "  \"manifest\": {\n",
    "    \"$OUTPUT_DIR\": \"$BASE_DIR/output\", \n",
    "    \"$BASE_DIR\": \".\", \n",
    "    \"$COMPONENTS_DIR\": \"/allen/aibs/mat/tmchartrand/bmtk_networks/biophys_components_shared\", \n",
    "    \"$NETWORK_DIR\": \"$BASE_DIR/network\"\n",
    "  }, \n",
    "  \"target_simulator\": \"NEURON\", \n",
    "  \"run\": {\n",
    "    \"nsteps_block\": 5000, \n",
    "    \"dt\": 0.1, \n",
    "    \"dL\": 20.0, \n",
    "    \"spike_threshold\": -20.0, \n",
    "    \"tstop\": 500.0\n",
    "  }, \n",
    "  \"conditions\": {\n",
    "    \"celsius\": 34.0, \n",
    "    \"v_init\": -80.0\n",
    "  },\n",
    "  \"components\": {\n",
    "    \"point_neuron_models_dir\": \"$COMPONENTS_DIR/point_neuron_templates\", \n",
    "    \"biophysical_neuron_models_dir\": \"$COMPONENTS_DIR/biophysical_neuron_templates\", \n",
    "    \"mechanisms_dir\": \"$COMPONENTS_DIR/mechanisms\", \n",
    "    \"morphologies_dir\": \"$COMPONENTS_DIR/morphologies\", \n",
    "    \"synaptic_models_dir\": \"$COMPONENTS_DIR/synaptic_models\"\n",
    "  }, \n",
    "  \"output\": {\n",
    "    \"spikes_file_csv\": \"spikes.csv\", \n",
    "    \"spikes_file\": \"spikes.h5\", \n",
    "    \"log_file\": \"log.txt\", \n",
    "    \"output_dir\": \"${OUTPUT_DIR}\", \n",
    "    \"overwrite_output_dir\": true\n",
    "  }\n",
    "}\n",
    "```"
   ]
  },
  {
   "cell_type": "markdown",
   "metadata": {},
   "source": [
    "I could then use the info in this template config to download (and rename) all morphology files I need to the right location as a batch:"
   ]
  },
  {
   "cell_type": "code",
   "execution_count": null,
   "metadata": {},
   "outputs": [],
   "source": [
    "from ateam.data.allensdk_tools import download_morph_files, download_models_to_config\n",
    "\n",
    "cell_list = [525133308]\n",
    "# Download morphology and perisomatic model params:\n",
    "download_models_to_config(cell_list, config_template, model_type='peri')\n",
    "\n",
    "# or just download morphology:\n",
    "morph_dir = \"/allen/aibs/mat/tmchartrand/bmtk_networks/biophys_components_shared/morphologies\"\n",
    "download_morph_files(cell_list, morph_dir)"
   ]
  },
  {
   "cell_type": "markdown",
   "metadata": {},
   "source": [
    "### Adding nodes and input to the simulation"
   ]
  },
  {
   "cell_type": "markdown",
   "metadata": {
    "slideshow": {
     "slide_type": "slide"
    }
   },
   "source": [
    "Then we define properties for our nodes and edges"
   ]
  },
  {
   "cell_type": "code",
   "execution_count": null,
   "metadata": {
    "slideshow": {
     "slide_type": "fragment"
    }
   },
   "outputs": [],
   "source": [
    "\n",
    "cell_id = 525133308\n",
    "node_props = {\n",
    "        'cell_name': cell_id,\n",
    "        'morphology': '{}.swc'.format(cell_id),\n",
    "        'dynamics_params': 'optim_param_{}.json'.format(cell_id),\n",
    "        'model_type': 'biophysical',\n",
    "        'model_template': 'ctdb:Biophys1.hoc',\n",
    "        'model_processing': 'aibs_allactive_ani'\n",
    "    }\n",
    "\n",
    "edge_props = {\n",
    "    'nsyns': 100,\n",
    "    'syn_weight': 1e-5, \n",
    "    'distance_range_min': 0,\n",
    "    'distance_range_max': 200,\n",
    "    'delay': 0,\n",
    "    'target_sections': ['somatic'],\n",
    "    'dynamics_params': 'AMPA_ExcToExc.json',\n",
    "    'model_template': 'exp2syn'\n",
    "}\n"
   ]
  },
  {
   "cell_type": "markdown",
   "metadata": {
    "slideshow": {
     "slide_type": "slide"
    }
   },
   "source": [
    "Rather than call BMTK's NetworkBuilder directly, SimManager can create networks for us and keep track of saving the appropriate files.\n",
    "\n",
    "(Comments show extra BMTK code that SimManager takes care of.)"
   ]
  },
  {
   "cell_type": "code",
   "execution_count": null,
   "metadata": {
    "slideshow": {
     "slide_type": "fragment"
    }
   },
   "outputs": [],
   "source": [
    "net = sm.new_network('single')\n",
    "# net = NetworkBuilder('single')\n",
    "net.add_nodes(N=1, **node_props)\n",
    "# net.build()\n",
    "# net.save()\n",
    "\n",
    "virt_net = sm.new_network('input')\n",
    "# virt_net = NetworkBuilder(name)\n",
    "virt_net.add_nodes(N=1, model_type='virtual')\n",
    "virt_net.add_edges(source=virt_net.nodes(), target=net.nodes(), **edge_props)\n",
    "# virt_net.build()\n",
    "# virt_net.save()\n",
    "\n",
    "# This takes care of generating a new spike input file and adding the path to the config\n",
    "sm.write_spikeinput_poisson(virt_net.name, rate=100)\n",
    "\n",
    "sm.add_membrane_report()\n",
    "\n",
    "sm.save_network_files()"
   ]
  },
  {
   "cell_type": "markdown",
   "metadata": {
    "slideshow": {
     "slide_type": "slide"
    }
   },
   "source": [
    "## Then we simulate:\n",
    "- Calls the standard run_bionet.py script, but no need to copy that to the sim directory or to cd to the directory"
   ]
  },
  {
   "cell_type": "code",
   "execution_count": null,
   "metadata": {
    "slideshow": {
     "slide_type": "subslide"
    }
   },
   "outputs": [],
   "source": [
    "sm.run_bionet()\n",
    "\n",
    "# Could also use MPI if we had a larger net to simulate:\n",
    "# sm.run_bionet_mpi(ncores=4)"
   ]
  },
  {
   "cell_type": "markdown",
   "metadata": {},
   "source": [
    "We can call plotting functions from the config path, using that to find the correct sim output files. The plotting functions need work, please contribute!"
   ]
  },
  {
   "cell_type": "code",
   "execution_count": null,
   "metadata": {},
   "outputs": [],
   "source": [
    "from ateam.analysis.bmtk import plot_v\n",
    "plot_v(sm.config_path)"
   ]
  },
  {
   "cell_type": "markdown",
   "metadata": {},
   "source": [
    "## Loading existing simulations\n",
    "We can use SimManager to load and then modify or duplicate an existing simulation"
   ]
  },
  {
   "cell_type": "code",
   "execution_count": null,
   "metadata": {},
   "outputs": [],
   "source": [
    "config_path = '/allen/aibs/mat/tmchartrand/bmtk_networks/temp/batch_config.json'\n",
    "sm = SimManager(config_path)"
   ]
  },
  {
   "cell_type": "markdown",
   "metadata": {},
   "source": [
    "These functions duplicate the entire sim folder (clearing the output), and update the node types file for the simple case when only a single type is present"
   ]
  },
  {
   "cell_type": "code",
   "execution_count": null,
   "metadata": {},
   "outputs": [],
   "source": [
    "folder = '/allen/aibs/mat/tmchartrand/bmtk_networks/temp/new_sim/'\n",
    "sm_new = sm.save_copy(folder, overwrite=True)\n",
    "\n",
    "# Define the node props we want to change (probably those that are cell-specific)\n",
    "node_props = {\n",
    "            'cell_name': cell_id,\n",
    "            'morphology': '{}.swc'.format(cell_id),\n",
    "            'dynamics_params': 'optim_param_{}.json'.format(cell_id)\n",
    "}\n",
    "# We need to know what we named the network to change:\n",
    "net_name = 'single'\n",
    "sm_new.update_node_type_props(net_name, node_props)"
   ]
  },
  {
   "cell_type": "markdown",
   "metadata": {},
   "source": [
    "If we wanted to modify the network in more depth, we can load it more fully, allowing us to add edges to existing nodes:"
   ]
  },
  {
   "cell_type": "markdown",
   "metadata": {},
   "source": [
    "Details to come on this..."
   ]
  }
 ],
 "metadata": {
  "kernelspec": {
   "display_name": "Python [conda env:bmtk]",
   "language": "python",
   "name": "conda-env-bmtk-py"
  },
  "language_info": {
   "codemirror_mode": {
    "name": "ipython",
    "version": 2
   },
   "file_extension": ".py",
   "mimetype": "text/x-python",
   "name": "python",
   "nbconvert_exporter": "python",
   "pygments_lexer": "ipython2",
   "version": "2.7.15"
  }
 },
 "nbformat": 4,
 "nbformat_minor": 2
}
