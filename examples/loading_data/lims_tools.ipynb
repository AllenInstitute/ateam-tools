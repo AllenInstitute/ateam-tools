{
 "cells": [
  {
   "cell_type": "markdown",
   "metadata": {},
   "source": [
    "If this import doesn't work, you need to install a few packages for reading SQL databases. Try running:\n",
    "\n",
    "`pip install -e path/to/ateam-tools[lims]` in your Conda environment of choice."
   ]
  },
  {
   "cell_type": "markdown",
   "metadata": {},
   "source": [
    "We create an instance of the LimsReader class that we call other methods from, so it can hold onto the database connection."
   ]
  },
  {
   "cell_type": "code",
   "execution_count": 1,
   "metadata": {},
   "outputs": [],
   "source": [
    "import ateam.data.lims as lims\n",
    "\n",
    "lr = lims.LimsReader()"
   ]
  },
  {
   "cell_type": "markdown",
   "metadata": {},
   "source": [
    "## Cell information"
   ]
  },
  {
   "cell_type": "markdown",
   "metadata": {},
   "source": [
    "We'll start with a cell in the original human IVSCC database (released in the web product)."
   ]
  },
  {
   "cell_type": "code",
   "execution_count": 2,
   "metadata": {},
   "outputs": [
    {
     "data": {
      "text/html": [
       "<div>\n",
       "<style scoped>\n",
       "    .dataframe tbody tr th:only-of-type {\n",
       "        vertical-align: middle;\n",
       "    }\n",
       "\n",
       "    .dataframe tbody tr th {\n",
       "        vertical-align: top;\n",
       "    }\n",
       "\n",
       "    .dataframe thead th {\n",
       "        text-align: right;\n",
       "    }\n",
       "</style>\n",
       "<table border=\"1\" class=\"dataframe\">\n",
       "  <thead>\n",
       "    <tr style=\"text-align: right;\">\n",
       "      <th></th>\n",
       "      <th>name</th>\n",
       "      <th>normalized_depth</th>\n",
       "      <th>soma_depth_um</th>\n",
       "      <th>structure</th>\n",
       "      <th>donor_name</th>\n",
       "      <th>dendrite_type</th>\n",
       "      <th>layer</th>\n",
       "      <th>project_code</th>\n",
       "      <th>nwb_path</th>\n",
       "    </tr>\n",
       "    <tr>\n",
       "      <th>id</th>\n",
       "      <th></th>\n",
       "      <th></th>\n",
       "      <th></th>\n",
       "      <th></th>\n",
       "      <th></th>\n",
       "      <th></th>\n",
       "      <th></th>\n",
       "      <th></th>\n",
       "      <th></th>\n",
       "    </tr>\n",
       "  </thead>\n",
       "  <tbody>\n",
       "    <tr>\n",
       "      <th>525133308</th>\n",
       "      <td>H16.03.003.01.18.01</td>\n",
       "      <td>0.098971</td>\n",
       "      <td>314.760417</td>\n",
       "      <td>frontal lobe</td>\n",
       "      <td>H16.03.003</td>\n",
       "      <td>dendrite type - spiny</td>\n",
       "      <td>Layer 2</td>\n",
       "      <td>H301</td>\n",
       "      <td>/allen/programs/celltypes/production/mousecell...</td>\n",
       "    </tr>\n",
       "  </tbody>\n",
       "</table>\n",
       "</div>"
      ],
      "text/plain": [
       "                          name  normalized_depth  soma_depth_um     structure  \\\n",
       "id                                                                              \n",
       "525133308  H16.03.003.01.18.01          0.098971     314.760417  frontal lobe   \n",
       "\n",
       "           donor_name          dendrite_type    layer project_code  \\\n",
       "id                                                                   \n",
       "525133308  H16.03.003  dendrite type - spiny  Layer 2         H301   \n",
       "\n",
       "                                                    nwb_path  \n",
       "id                                                            \n",
       "525133308  /allen/programs/celltypes/production/mousecell...  "
      ]
     },
     "execution_count": 2,
     "metadata": {},
     "output_type": "execute_result"
    }
   ],
   "source": [
    "cell_id = 525133308\n",
    "lr.get_cells_df(cells_list=[cell_id])"
   ]
  },
  {
   "cell_type": "markdown",
   "metadata": {},
   "source": [
    "Get paths to nwb files (real and simulated):"
   ]
  },
  {
   "cell_type": "code",
   "execution_count": 3,
   "metadata": {},
   "outputs": [
    {
     "ename": "AttributeError",
     "evalue": "'LimsReader' object has no attribute 'get_sim_nwb_path_from_lims'",
     "output_type": "error",
     "traceback": [
      "\u001b[0;31m---------------------------------------------------------------------------\u001b[0m",
      "\u001b[0;31mAttributeError\u001b[0m                            Traceback (most recent call last)",
      "\u001b[0;32m<ipython-input-3-6a05f9927c45>\u001b[0m in \u001b[0;36m<module>\u001b[0;34m()\u001b[0m\n\u001b[0;32m----> 1\u001b[0;31m \u001b[0mlr\u001b[0m\u001b[0;34m.\u001b[0m\u001b[0mget_sim_nwb_path_from_lims\u001b[0m\u001b[0;34m(\u001b[0m\u001b[0mcell_id\u001b[0m\u001b[0;34m)\u001b[0m\u001b[0;34m\u001b[0m\u001b[0m\n\u001b[0m",
      "\u001b[0;31mAttributeError\u001b[0m: 'LimsReader' object has no attribute 'get_sim_nwb_path_from_lims'"
     ]
    }
   ],
   "source": [
    "lr.get_sim_nwb_path_from_lims(cell_id)"
   ]
  },
  {
   "cell_type": "code",
   "execution_count": null,
   "metadata": {
    "scrolled": true
   },
   "outputs": [],
   "source": [
    "lr.get_nwb_path_from_lims(cell_id)"
   ]
  },
  {
   "cell_type": "markdown",
   "metadata": {},
   "source": [
    "Get data table for a list of cells (or by project, etc.):"
   ]
  },
  {
   "cell_type": "code",
   "execution_count": null,
   "metadata": {},
   "outputs": [],
   "source": [
    "cell_dataframe = lr.get_cells_df(project_id=None, project_code='hIVSCC-MET', cells_list=['760398902','770330029'])\n",
    "cell_dataframe.head()"
   ]
  },
  {
   "cell_type": "markdown",
   "metadata": {},
   "source": [
    "## Sweep information"
   ]
  },
  {
   "cell_type": "markdown",
   "metadata": {},
   "source": [
    "We can also get the sweep numbers to use for accessing data in the NWB:"
   ]
  },
  {
   "cell_type": "code",
   "execution_count": null,
   "metadata": {},
   "outputs": [],
   "source": [
    "sweep_type = 'Long Square'\n",
    "sweep_table = lr.get_sweep_info(cell_id, sweep_type)\n",
    "sweep_table.head()"
   ]
  },
  {
   "cell_type": "code",
   "execution_count": null,
   "metadata": {},
   "outputs": [],
   "source": [
    "# or can output the sweep numbers directly as a list\n",
    "lr.get_sweeps(cell_id, sweep_type, passed_only=True)"
   ]
  },
  {
   "cell_type": "markdown",
   "metadata": {},
   "source": [
    "This should be called with `sweep_type` as one of the following types:"
   ]
  },
  {
   "cell_type": "code",
   "execution_count": null,
   "metadata": {},
   "outputs": [],
   "source": [
    "lr.list_sweep_types()"
   ]
  }
 ],
 "metadata": {
  "kernelspec": {
   "display_name": "Python [conda env:bmtk_ateam]",
   "language": "python",
   "name": "conda-env-bmtk_ateam-py"
  },
  "language_info": {
   "codemirror_mode": {
    "name": "ipython",
    "version": 2
   },
   "file_extension": ".py",
   "mimetype": "text/x-python",
   "name": "python",
   "nbconvert_exporter": "python",
   "pygments_lexer": "ipython2",
   "version": "2.7.15"
  }
 },
 "nbformat": 4,
 "nbformat_minor": 2
}
