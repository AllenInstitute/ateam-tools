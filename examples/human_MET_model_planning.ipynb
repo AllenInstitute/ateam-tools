{
 "cells": [
  {
   "cell_type": "code",
   "execution_count": 58,
   "metadata": {},
   "outputs": [],
   "source": [
    "import pandas as pd\n",
    "import numpy as np\n",
    "import ateam.data.lims as lims\n",
    "import seaborn as sns\n",
    "import matplotlib.pyplot as plt\n",
    "# fix slow autocomplete in py3\n",
    "%config Completer.use_jedi = False"
   ]
  },
  {
   "cell_type": "code",
   "execution_count": 167,
   "metadata": {},
   "outputs": [
    {
     "name": "stdout",
     "output_type": "stream",
     "text": [
      "240 cells with reconstructions\n"
     ]
    }
   ],
   "source": [
    "lr = lims.LimsReader()\n",
    "cells_df = lr.get_cells_df(project_code=\"hIVSCC-MET\", has_reconstruction=True)\n",
    "\n",
    "print(\"{} cells with reconstructions\".format(cells_df.shape[0]))"
   ]
  },
  {
   "cell_type": "code",
   "execution_count": 162,
   "metadata": {},
   "outputs": [],
   "source": [
    "cells_df[\"triblips\"] = [len(lr.get_sweeps(cell_id=id, sweep_type=\"Triple\")) for id in cells_df.index]\n",
    "cells_df[\"chirps\"] = [len(lr.get_sweeps(cell_id=id, description=\"CHIRP\")) for id in cells_df.index]\n",
    "cells_df[\"spiking\"] = [len(lr.get_sweeps(cell_id=id, sweep_type=\"Long Square\", spiking=True, depolarizing=True)) for id in cells_df.index]\n",
    "cells_df[\"sub_depol\"] = [len(lr.get_sweeps(cell_id=id, sweep_type=\"Long Square\", spiking=False, depolarizing=True)) for id in cells_df.index]\n",
    "cells_df[\"sub_hyper\"] = [len(lr.get_sweeps(cell_id=id, sweep_type=\"Long Square\", spiking=False, depolarizing=False)) for id in cells_df.index]\n",
    "\n",
    "cells_df[\"triblips_passed\"] = [len(lr.get_sweeps(cell_id=id, passed_only=True, sweep_type=\"Triple\")) for id in cells_df.index]\n",
    "cells_df[\"chirps_passed\"] = [len(lr.get_sweeps(cell_id=id, passed_only=True, description=\"CHIRP\")) for id in cells_df.index]\n",
    "cells_df[\"spiking_passed\"] = [len(lr.get_sweeps(cell_id=id, passed_only=True, sweep_type=\"Long Square\", spiking=True, depolarizing=True)) for id in cells_df.index]\n",
    "cells_df[\"sub_depol_passed\"] = [len(lr.get_sweeps(cell_id=id, passed_only=True, sweep_type=\"Long Square\", spiking=False, depolarizing=True)) for id in cells_df.index]\n",
    "cells_df[\"sub_hyper_passed\"] = [len(lr.get_sweeps(cell_id=id, passed_only=True, sweep_type=\"Long Square\", spiking=False, depolarizing=False)) for id in cells_df.index]\n"
   ]
  },
  {
   "cell_type": "markdown",
   "metadata": {},
   "source": [
    "## Shiny data"
   ]
  },
  {
   "cell_type": "code",
   "execution_count": 169,
   "metadata": {},
   "outputs": [],
   "source": [
    "feather_path = '/allen/programs/celltypes/workgroups/rnaseqanalysis/shiny/patch_seq/star/human/human_patchseq_MTG_current'\n",
    "shiny_df = pd.read_feather(feather_path + '/anno.feather')\n",
    "\n",
    "shiny_df.drop(columns=[col for col in shiny_df.columns if not col.endswith('_label')], inplace=True)\n",
    "shiny_df.rename(axis=1, mapper=lambda col: col.replace('_label',''), inplace=True)\n",
    "shiny_df.drop_duplicates(subset=['spec_id'], inplace=True)\n",
    "shiny_df = shiny_df[shiny_df.spec_id != 'ZZ_Missing']\n",
    "shiny_df.index = shiny_df.spec_id.astype(int)\n",
    "\n",
    "shiny_df[\"leaf_matched\"] = shiny_df.seurat_cluster == shiny_df.cluster\n",
    "shiny_df[\"L23_depth_normalized\"] = shiny_df.L23_cell_depth / shiny_df.L23_total_thickness\n",
    "combined_df = cells_df.join(shiny_df, rsuffix='r')\n",
    "\n",
    "base_filter = ((combined_df[\"Norm_Marker_Sum.0.4\"]=='TRUE') & (combined_df.project_code==\"hIVSCC-MET\"))"
   ]
  },
  {
   "cell_type": "markdown",
   "metadata": {},
   "source": [
    "** Filtering by leaf match here will cut the results by about half**"
   ]
  },
  {
   "cell_type": "code",
   "execution_count": 170,
   "metadata": {},
   "outputs": [
    {
     "data": {
      "text/plain": [
       "198"
      ]
     },
     "execution_count": 170,
     "metadata": {},
     "output_type": "execute_result"
    }
   ],
   "source": [
    "sum(base_filter)"
   ]
  },
  {
   "cell_type": "code",
   "execution_count": 172,
   "metadata": {},
   "outputs": [
    {
     "data": {
      "text/plain": [
       "107"
      ]
     },
     "execution_count": 172,
     "metadata": {},
     "output_type": "execute_result"
    }
   ],
   "source": [
    "sum(base_filter & combined_df.leaf_matched)"
   ]
  },
  {
   "cell_type": "code",
   "execution_count": 130,
   "metadata": {},
   "outputs": [
    {
     "data": {
      "text/html": [
       "<div>\n",
       "<style scoped>\n",
       "    .dataframe tbody tr th:only-of-type {\n",
       "        vertical-align: middle;\n",
       "    }\n",
       "\n",
       "    .dataframe tbody tr th {\n",
       "        vertical-align: top;\n",
       "    }\n",
       "\n",
       "    .dataframe thead th {\n",
       "        text-align: right;\n",
       "    }\n",
       "</style>\n",
       "<table border=\"1\" class=\"dataframe\">\n",
       "  <thead>\n",
       "    <tr style=\"text-align: right;\">\n",
       "      <th></th>\n",
       "      <th>subclass</th>\n",
       "    </tr>\n",
       "  </thead>\n",
       "  <tbody>\n",
       "    <tr>\n",
       "      <th>IT (L2-3)</th>\n",
       "      <td>29</td>\n",
       "    </tr>\n",
       "    <tr>\n",
       "      <th>LAMP5/PAX6/Other</th>\n",
       "      <td>27</td>\n",
       "    </tr>\n",
       "    <tr>\n",
       "      <th>IT (L3-5)</th>\n",
       "      <td>20</td>\n",
       "    </tr>\n",
       "    <tr>\n",
       "      <th>PVALB</th>\n",
       "      <td>15</td>\n",
       "    </tr>\n",
       "    <tr>\n",
       "      <th>VIP</th>\n",
       "      <td>9</td>\n",
       "    </tr>\n",
       "    <tr>\n",
       "      <th>IT (L4-6)</th>\n",
       "      <td>4</td>\n",
       "    </tr>\n",
       "    <tr>\n",
       "      <th>L5/6 NP</th>\n",
       "      <td>2</td>\n",
       "    </tr>\n",
       "    <tr>\n",
       "      <th>SST</th>\n",
       "      <td>1</td>\n",
       "    </tr>\n",
       "  </tbody>\n",
       "</table>\n",
       "</div>"
      ],
      "text/plain": [
       "                  subclass\n",
       "IT (L2-3)               29\n",
       "LAMP5/PAX6/Other        27\n",
       "IT (L3-5)               20\n",
       "PVALB                   15\n",
       "VIP                      9\n",
       "IT (L4-6)                4\n",
       "L5/6 NP                  2\n",
       "SST                      1"
      ]
     },
     "execution_count": 130,
     "metadata": {},
     "output_type": "execute_result"
    }
   ],
   "source": [
    "base_set = combined_df[base_filter & combined_df.leaf_matched]\n",
    "base_set.subclass.value_counts().to_frame()"
   ]
  },
  {
   "cell_type": "code",
   "execution_count": 132,
   "metadata": {},
   "outputs": [
    {
     "data": {
      "text/html": [
       "<div>\n",
       "<style scoped>\n",
       "    .dataframe tbody tr th:only-of-type {\n",
       "        vertical-align: middle;\n",
       "    }\n",
       "\n",
       "    .dataframe tbody tr th {\n",
       "        vertical-align: top;\n",
       "    }\n",
       "\n",
       "    .dataframe thead th {\n",
       "        text-align: right;\n",
       "    }\n",
       "</style>\n",
       "<table border=\"1\" class=\"dataframe\">\n",
       "  <thead>\n",
       "    <tr style=\"text-align: right;\">\n",
       "      <th></th>\n",
       "      <th>cluster</th>\n",
       "    </tr>\n",
       "  </thead>\n",
       "  <tbody>\n",
       "    <tr>\n",
       "      <th>Exc L2-3 LINC00507 FREM3</th>\n",
       "      <td>12</td>\n",
       "    </tr>\n",
       "    <tr>\n",
       "      <th>Exc L2 LAMP5 LTK</th>\n",
       "      <td>11</td>\n",
       "    </tr>\n",
       "    <tr>\n",
       "      <th>Exc L3-5 RORB ESR1</th>\n",
       "      <td>11</td>\n",
       "    </tr>\n",
       "    <tr>\n",
       "      <th>Exc L3-5 RORB COL22A1</th>\n",
       "      <td>6</td>\n",
       "    </tr>\n",
       "    <tr>\n",
       "      <th>Exc L2-4 LINC00507 GLP2R</th>\n",
       "      <td>6</td>\n",
       "    </tr>\n",
       "    <tr>\n",
       "      <th>Exc L3-4 RORB CARM1P1</th>\n",
       "      <td>3</td>\n",
       "    </tr>\n",
       "  </tbody>\n",
       "</table>\n",
       "</div>"
      ],
      "text/plain": [
       "                          cluster\n",
       "Exc L2-3 LINC00507 FREM3       12\n",
       "Exc L2 LAMP5 LTK               11\n",
       "Exc L3-5 RORB ESR1             11\n",
       "Exc L3-5 RORB COL22A1           6\n",
       "Exc L2-4 LINC00507 GLP2R        6\n",
       "Exc L3-4 RORB CARM1P1           3"
      ]
     },
     "execution_count": 132,
     "metadata": {},
     "output_type": "execute_result"
    }
   ],
   "source": [
    "sup_subclasses = ['IT (L2-3)', 'IT (L3-5)']\n",
    "sup_types = base_set[base_set.subclass.isin(sup_subclasses)].cluster.unique()\n",
    "base_set[base_set.cluster.isin(sup_types)].cluster.value_counts().to_frame()"
   ]
  },
  {
   "cell_type": "markdown",
   "metadata": {},
   "source": [
    "## Loose ephys criteria"
   ]
  },
  {
   "cell_type": "markdown",
   "metadata": {},
   "source": [
    "Note that even this could be relaxed by a more careful analysis. Spiking sweeps are not marked as such in LIMS if the cell failed feature extraction, possibly due to a bug. This may be excluding a significant number of cells, and is on Sergey's priority list, but we could check sweeps directly for spiking by loading the data."
   ]
  },
  {
   "cell_type": "code",
   "execution_count": 136,
   "metadata": {
    "scrolled": false
   },
   "outputs": [
    {
     "data": {
      "text/html": [
       "<div>\n",
       "<style scoped>\n",
       "    .dataframe tbody tr th:only-of-type {\n",
       "        vertical-align: middle;\n",
       "    }\n",
       "\n",
       "    .dataframe tbody tr th {\n",
       "        vertical-align: top;\n",
       "    }\n",
       "\n",
       "    .dataframe thead th {\n",
       "        text-align: right;\n",
       "    }\n",
       "</style>\n",
       "<table border=\"1\" class=\"dataframe\">\n",
       "  <thead>\n",
       "    <tr style=\"text-align: right;\">\n",
       "      <th></th>\n",
       "      <th>subclass</th>\n",
       "    </tr>\n",
       "  </thead>\n",
       "  <tbody>\n",
       "    <tr>\n",
       "      <th>IT (L2-3)</th>\n",
       "      <td>23</td>\n",
       "    </tr>\n",
       "    <tr>\n",
       "      <th>LAMP5/PAX6/Other</th>\n",
       "      <td>21</td>\n",
       "    </tr>\n",
       "    <tr>\n",
       "      <th>IT (L3-5)</th>\n",
       "      <td>15</td>\n",
       "    </tr>\n",
       "    <tr>\n",
       "      <th>PVALB</th>\n",
       "      <td>10</td>\n",
       "    </tr>\n",
       "    <tr>\n",
       "      <th>IT (L4-6)</th>\n",
       "      <td>3</td>\n",
       "    </tr>\n",
       "    <tr>\n",
       "      <th>VIP</th>\n",
       "      <td>2</td>\n",
       "    </tr>\n",
       "    <tr>\n",
       "      <th>L5/6 NP</th>\n",
       "      <td>2</td>\n",
       "    </tr>\n",
       "  </tbody>\n",
       "</table>\n",
       "</div>"
      ],
      "text/plain": [
       "                  subclass\n",
       "IT (L2-3)               23\n",
       "LAMP5/PAX6/Other        21\n",
       "IT (L3-5)               15\n",
       "PVALB                   10\n",
       "IT (L4-6)                3\n",
       "VIP                      2\n",
       "L5/6 NP                  2"
      ]
     },
     "execution_count": 136,
     "metadata": {},
     "output_type": "execute_result"
    }
   ],
   "source": [
    "selection = base_set.query('spiking_passed >= 3').index\n",
    "subset = base_set.loc[selection]\n",
    "\n",
    "subset.subclass.value_counts().to_frame()"
   ]
  },
  {
   "cell_type": "code",
   "execution_count": 137,
   "metadata": {},
   "outputs": [
    {
     "data": {
      "text/html": [
       "<div>\n",
       "<style scoped>\n",
       "    .dataframe tbody tr th:only-of-type {\n",
       "        vertical-align: middle;\n",
       "    }\n",
       "\n",
       "    .dataframe tbody tr th {\n",
       "        vertical-align: top;\n",
       "    }\n",
       "\n",
       "    .dataframe thead th {\n",
       "        text-align: right;\n",
       "    }\n",
       "</style>\n",
       "<table border=\"1\" class=\"dataframe\">\n",
       "  <thead>\n",
       "    <tr style=\"text-align: right;\">\n",
       "      <th></th>\n",
       "      <th>cluster</th>\n",
       "    </tr>\n",
       "  </thead>\n",
       "  <tbody>\n",
       "    <tr>\n",
       "      <th>Exc L2-3 LINC00507 FREM3</th>\n",
       "      <td>9</td>\n",
       "    </tr>\n",
       "    <tr>\n",
       "      <th>Exc L2 LAMP5 LTK</th>\n",
       "      <td>9</td>\n",
       "    </tr>\n",
       "    <tr>\n",
       "      <th>Exc L3-5 RORB ESR1</th>\n",
       "      <td>9</td>\n",
       "    </tr>\n",
       "    <tr>\n",
       "      <th>Exc L2-4 LINC00507 GLP2R</th>\n",
       "      <td>5</td>\n",
       "    </tr>\n",
       "    <tr>\n",
       "      <th>Exc L3-4 RORB CARM1P1</th>\n",
       "      <td>3</td>\n",
       "    </tr>\n",
       "    <tr>\n",
       "      <th>Exc L3-5 RORB COL22A1</th>\n",
       "      <td>3</td>\n",
       "    </tr>\n",
       "  </tbody>\n",
       "</table>\n",
       "</div>"
      ],
      "text/plain": [
       "                          cluster\n",
       "Exc L2-3 LINC00507 FREM3        9\n",
       "Exc L2 LAMP5 LTK                9\n",
       "Exc L3-5 RORB ESR1              9\n",
       "Exc L2-4 LINC00507 GLP2R        5\n",
       "Exc L3-4 RORB CARM1P1           3\n",
       "Exc L3-5 RORB COL22A1           3"
      ]
     },
     "execution_count": 137,
     "metadata": {},
     "output_type": "execute_result"
    }
   ],
   "source": [
    "subset[subset.cluster.isin(sup_types)].cluster.value_counts().to_frame()"
   ]
  },
  {
   "cell_type": "code",
   "execution_count": 138,
   "metadata": {
    "scrolled": false
   },
   "outputs": [
    {
     "data": {
      "text/plain": [
       "id\n",
       "720878801    Exc L2-3 LINC00507 FREM3\n",
       "737158657    Exc L2-3 LINC00507 FREM3\n",
       "737424303    Exc L2-3 LINC00507 FREM3\n",
       "737988336    Exc L2-3 LINC00507 FREM3\n",
       "768885440    Exc L2-3 LINC00507 FREM3\n",
       "770466619    Exc L2-3 LINC00507 FREM3\n",
       "774420848    Exc L2-3 LINC00507 FREM3\n",
       "783698501    Exc L2-3 LINC00507 FREM3\n",
       "786497938    Exc L2-3 LINC00507 FREM3\n",
       "737820466    Exc L2-4 LINC00507 GLP2R\n",
       "758286194    Exc L2-4 LINC00507 GLP2R\n",
       "758311336    Exc L2-4 LINC00507 GLP2R\n",
       "769228370    Exc L2-4 LINC00507 GLP2R\n",
       "770268817    Exc L2-4 LINC00507 GLP2R\n",
       "Name: cluster, dtype: object"
      ]
     },
     "execution_count": 138,
     "metadata": {},
     "output_type": "execute_result"
    }
   ],
   "source": [
    "clusters = [\"Exc L2-3 LINC00507 FREM3\", \"Exc L2-4 LINC00507 GLP2R\"]\n",
    "subset[subset.cluster.isin(clusters)].cluster.sort_values()"
   ]
  },
  {
   "cell_type": "markdown",
   "metadata": {},
   "source": [
    "## Strict ephys criteria"
   ]
  },
  {
   "cell_type": "code",
   "execution_count": 133,
   "metadata": {
    "scrolled": false
   },
   "outputs": [
    {
     "data": {
      "text/html": [
       "<div>\n",
       "<style scoped>\n",
       "    .dataframe tbody tr th:only-of-type {\n",
       "        vertical-align: middle;\n",
       "    }\n",
       "\n",
       "    .dataframe tbody tr th {\n",
       "        vertical-align: top;\n",
       "    }\n",
       "\n",
       "    .dataframe thead th {\n",
       "        text-align: right;\n",
       "    }\n",
       "</style>\n",
       "<table border=\"1\" class=\"dataframe\">\n",
       "  <thead>\n",
       "    <tr style=\"text-align: right;\">\n",
       "      <th></th>\n",
       "      <th>subclass</th>\n",
       "    </tr>\n",
       "  </thead>\n",
       "  <tbody>\n",
       "    <tr>\n",
       "      <th>IT (L3-5)</th>\n",
       "      <td>6</td>\n",
       "    </tr>\n",
       "    <tr>\n",
       "      <th>IT (L2-3)</th>\n",
       "      <td>5</td>\n",
       "    </tr>\n",
       "    <tr>\n",
       "      <th>PVALB</th>\n",
       "      <td>3</td>\n",
       "    </tr>\n",
       "    <tr>\n",
       "      <th>L5/6 NP</th>\n",
       "      <td>1</td>\n",
       "    </tr>\n",
       "    <tr>\n",
       "      <th>VIP</th>\n",
       "      <td>1</td>\n",
       "    </tr>\n",
       "  </tbody>\n",
       "</table>\n",
       "</div>"
      ],
      "text/plain": [
       "           subclass\n",
       "IT (L3-5)         6\n",
       "IT (L2-3)         5\n",
       "PVALB             3\n",
       "L5/6 NP           1\n",
       "VIP               1"
      ]
     },
     "execution_count": 133,
     "metadata": {},
     "output_type": "execute_result"
    }
   ],
   "source": [
    "selection = base_set.query('chirps >= 3 and triblips >= 22 and sub_depol_passed >= 1 and spiking_passed >= 3').index\n",
    "subset = base_set.loc[selection]\n",
    "\n",
    "subset.subclass.value_counts().to_frame()"
   ]
  },
  {
   "cell_type": "code",
   "execution_count": 134,
   "metadata": {},
   "outputs": [
    {
     "data": {
      "text/html": [
       "<div>\n",
       "<style scoped>\n",
       "    .dataframe tbody tr th:only-of-type {\n",
       "        vertical-align: middle;\n",
       "    }\n",
       "\n",
       "    .dataframe tbody tr th {\n",
       "        vertical-align: top;\n",
       "    }\n",
       "\n",
       "    .dataframe thead th {\n",
       "        text-align: right;\n",
       "    }\n",
       "</style>\n",
       "<table border=\"1\" class=\"dataframe\">\n",
       "  <thead>\n",
       "    <tr style=\"text-align: right;\">\n",
       "      <th></th>\n",
       "      <th>seurat_cluster</th>\n",
       "    </tr>\n",
       "  </thead>\n",
       "  <tbody>\n",
       "    <tr>\n",
       "      <th>Exc L2 LAMP5 LTK</th>\n",
       "      <td>4</td>\n",
       "    </tr>\n",
       "    <tr>\n",
       "      <th>Exc L3-5 RORB ESR1</th>\n",
       "      <td>4</td>\n",
       "    </tr>\n",
       "    <tr>\n",
       "      <th>Exc L2-3 LINC00507 FREM3</th>\n",
       "      <td>1</td>\n",
       "    </tr>\n",
       "    <tr>\n",
       "      <th>Exc L3-5 RORB COL22A1</th>\n",
       "      <td>1</td>\n",
       "    </tr>\n",
       "    <tr>\n",
       "      <th>Exc L3-4 RORB CARM1P1</th>\n",
       "      <td>1</td>\n",
       "    </tr>\n",
       "  </tbody>\n",
       "</table>\n",
       "</div>"
      ],
      "text/plain": [
       "                          seurat_cluster\n",
       "Exc L2 LAMP5 LTK                       4\n",
       "Exc L3-5 RORB ESR1                     4\n",
       "Exc L2-3 LINC00507 FREM3               1\n",
       "Exc L3-5 RORB COL22A1                  1\n",
       "Exc L3-4 RORB CARM1P1                  1"
      ]
     },
     "execution_count": 134,
     "metadata": {},
     "output_type": "execute_result"
    }
   ],
   "source": [
    "subset[subset.cluster.isin(sup_types)].seurat_cluster.value_counts().to_frame()"
   ]
  },
  {
   "cell_type": "markdown",
   "metadata": {},
   "source": [
    "## Full counts of cells with morphology (unrestricted by stimulus)"
   ]
  },
  {
   "cell_type": "code",
   "execution_count": 97,
   "metadata": {},
   "outputs": [
    {
     "data": {
      "text/html": [
       "<div>\n",
       "<style scoped>\n",
       "    .dataframe tbody tr th:only-of-type {\n",
       "        vertical-align: middle;\n",
       "    }\n",
       "\n",
       "    .dataframe tbody tr th {\n",
       "        vertical-align: top;\n",
       "    }\n",
       "\n",
       "    .dataframe thead th {\n",
       "        text-align: right;\n",
       "    }\n",
       "</style>\n",
       "<table border=\"1\" class=\"dataframe\">\n",
       "  <thead>\n",
       "    <tr style=\"text-align: right;\">\n",
       "      <th></th>\n",
       "      <th>subclass</th>\n",
       "    </tr>\n",
       "  </thead>\n",
       "  <tbody>\n",
       "    <tr>\n",
       "      <th>IT (L2-3)</th>\n",
       "      <td>78</td>\n",
       "    </tr>\n",
       "    <tr>\n",
       "      <th>LAMP5/PAX6/Other</th>\n",
       "      <td>31</td>\n",
       "    </tr>\n",
       "    <tr>\n",
       "      <th>PVALB</th>\n",
       "      <td>28</td>\n",
       "    </tr>\n",
       "    <tr>\n",
       "      <th>IT (L3-5)</th>\n",
       "      <td>27</td>\n",
       "    </tr>\n",
       "    <tr>\n",
       "      <th>VIP</th>\n",
       "      <td>15</td>\n",
       "    </tr>\n",
       "    <tr>\n",
       "      <th>IT (L4-6)</th>\n",
       "      <td>11</td>\n",
       "    </tr>\n",
       "    <tr>\n",
       "      <th>SST</th>\n",
       "      <td>5</td>\n",
       "    </tr>\n",
       "    <tr>\n",
       "      <th>L5/6 NP</th>\n",
       "      <td>2</td>\n",
       "    </tr>\n",
       "    <tr>\n",
       "      <th>IT (L6)</th>\n",
       "      <td>1</td>\n",
       "    </tr>\n",
       "  </tbody>\n",
       "</table>\n",
       "</div>"
      ],
      "text/plain": [
       "                  subclass\n",
       "IT (L2-3)               78\n",
       "LAMP5/PAX6/Other        31\n",
       "PVALB                   28\n",
       "IT (L3-5)               27\n",
       "VIP                     15\n",
       "IT (L4-6)               11\n",
       "SST                      5\n",
       "L5/6 NP                  2\n",
       "IT (L6)                  1"
      ]
     },
     "execution_count": 97,
     "metadata": {},
     "output_type": "execute_result"
    }
   ],
   "source": [
    "intersection = shiny_df[filters].index.intersection(cells_df.index)\n",
    "subset = shiny_df.loc[intersection]\n",
    "subset.subclass.value_counts().to_frame()"
   ]
  },
  {
   "cell_type": "code",
   "execution_count": 98,
   "metadata": {},
   "outputs": [
    {
     "data": {
      "text/html": [
       "<div>\n",
       "<style scoped>\n",
       "    .dataframe tbody tr th:only-of-type {\n",
       "        vertical-align: middle;\n",
       "    }\n",
       "\n",
       "    .dataframe tbody tr th {\n",
       "        vertical-align: top;\n",
       "    }\n",
       "\n",
       "    .dataframe thead th {\n",
       "        text-align: right;\n",
       "    }\n",
       "</style>\n",
       "<table border=\"1\" class=\"dataframe\">\n",
       "  <thead>\n",
       "    <tr style=\"text-align: right;\">\n",
       "      <th></th>\n",
       "      <th>cluster</th>\n",
       "    </tr>\n",
       "  </thead>\n",
       "  <tbody>\n",
       "    <tr>\n",
       "      <th>L2-L3|a</th>\n",
       "      <td>31</td>\n",
       "    </tr>\n",
       "    <tr>\n",
       "      <th>Exc L2 LAMP5 LTK</th>\n",
       "      <td>18</td>\n",
       "    </tr>\n",
       "    <tr>\n",
       "      <th>Exc L2-3 LINC00507 FREM3</th>\n",
       "      <td>13</td>\n",
       "    </tr>\n",
       "    <tr>\n",
       "      <th>Exc L3-5 RORB ESR1</th>\n",
       "      <td>11</td>\n",
       "    </tr>\n",
       "    <tr>\n",
       "      <th>Exc L2-4 LINC00507 GLP2R</th>\n",
       "      <td>7</td>\n",
       "    </tr>\n",
       "    <tr>\n",
       "      <th>Exc L3-5 RORB COL22A1</th>\n",
       "      <td>6</td>\n",
       "    </tr>\n",
       "    <tr>\n",
       "      <th>RORB (L3-L4, all)</th>\n",
       "      <td>5</td>\n",
       "    </tr>\n",
       "    <tr>\n",
       "      <th>L1-L5|b</th>\n",
       "      <td>4</td>\n",
       "    </tr>\n",
       "    <tr>\n",
       "      <th>L2-L3|b</th>\n",
       "      <td>4</td>\n",
       "    </tr>\n",
       "    <tr>\n",
       "      <th>Exc L3-4 RORB CARM1P1</th>\n",
       "      <td>3</td>\n",
       "    </tr>\n",
       "    <tr>\n",
       "      <th>FAIL</th>\n",
       "      <td>1</td>\n",
       "    </tr>\n",
       "    <tr>\n",
       "      <th>RORB (all)</th>\n",
       "      <td>1</td>\n",
       "    </tr>\n",
       "    <tr>\n",
       "      <th>L1-L6</th>\n",
       "      <td>1</td>\n",
       "    </tr>\n",
       "  </tbody>\n",
       "</table>\n",
       "</div>"
      ],
      "text/plain": [
       "                          cluster\n",
       "L2-L3|a                        31\n",
       "Exc L2 LAMP5 LTK               18\n",
       "Exc L2-3 LINC00507 FREM3       13\n",
       "Exc L3-5 RORB ESR1             11\n",
       "Exc L2-4 LINC00507 GLP2R        7\n",
       "Exc L3-5 RORB COL22A1           6\n",
       "RORB (L3-L4, all)               5\n",
       "L1-L5|b                         4\n",
       "L2-L3|b                         4\n",
       "Exc L3-4 RORB CARM1P1           3\n",
       "FAIL                            1\n",
       "RORB (all)                      1\n",
       "L1-L6                           1"
      ]
     },
     "execution_count": 98,
     "metadata": {},
     "output_type": "execute_result"
    }
   ],
   "source": [
    "sup_types = ['IT (L2-3)', 'IT (L3-5)']\n",
    "sup_pcs = subset[subset.subclass.isin(sup_types)]\n",
    "sup_pcs.cluster.value_counts().to_frame()"
   ]
  },
  {
   "cell_type": "markdown",
   "metadata": {},
   "source": [
    "## Plots of sweep counts across cells"
   ]
  },
  {
   "cell_type": "code",
   "execution_count": 154,
   "metadata": {},
   "outputs": [],
   "source": [
    "def clipped_hist(x, bins, upper=True, lower=True, **kwargs):\n",
    "    \"\"\"Plot a histogram with specified bins, \n",
    "    with outliers beyond the endpoints clipped\n",
    "    and included in the first and/or last bins.\n",
    "    All kwargs passed to matplotlib hist function.\"\"\"\n",
    "    ubound = bins[-1] if upper else None\n",
    "    lbound = bins[0] if lower else None\n",
    "    x = np.clip(x, lbound, ubound)\n",
    "    plt.hist(x, bins=bins, **kwargs)\n",
    "    ax = plt.gca()\n",
    "    ax.set_xlim(bins[0], bins[-1])\n",
    "    mid = [(a + b)/2 for a,b in zip(bins[:-1], bins[1:])]\n",
    "    ax.set_xticks(mid)\n",
    "#     xlabels = ax.get_xticks().tolist()\n",
    "    xlabels = [str(num) for num in bins[:-1]]\n",
    "    if lower:\n",
    "        xlabels[0] = str(xlabels[0]) + '-'\n",
    "    if upper:\n",
    "        xlabels[-1] = str(xlabels[-1]) + '+'\n",
    "    ax.set_xticklabels(xlabels)\n",
    "\n",
    "def plot_qc_comparison(cells_df, feature, bins):\n",
    "    clipped_hist(cells_df[[feature, feature+\"_passed\"]].T, bins=bins, lower=False)\n",
    "    plt.legend([\"all sweeps\", \"passed\"])\n",
    "    plt.ylabel(\"cell count\")\n",
    "    plt.xlabel(\"sweeps\")\n",
    "    plt.show()"
   ]
  },
  {
   "cell_type": "code",
   "execution_count": 155,
   "metadata": {},
   "outputs": [
    {
     "data": {
      "image/png": "[encoded data removed]",
      "text/plain": [
       "<Figure size 432x288 with 1 Axes>"
      ]
     },
     "metadata": {
      "needs_background": "light"
     },
     "output_type": "display_data"
    }
   ],
   "source": [
    "plot_qc_comparison(cells_df, \"spiking\", bins=np.arange(11))"
   ]
  },
  {
   "cell_type": "code",
   "execution_count": 158,
   "metadata": {},
   "outputs": [
    {
     "data": {
      "image/png": "[encoded data removed]",
      "text/plain": [
       "<Figure size 432x288 with 1 Axes>"
      ]
     },
     "metadata": {
      "needs_background": "light"
     },
     "output_type": "display_data"
    }
   ],
   "source": [
    "plot_qc_comparison(cells_df, \"sub_depol\", bins=np.arange(11))"
   ]
  },
  {
   "cell_type": "code",
   "execution_count": 163,
   "metadata": {},
   "outputs": [
    {
     "data": {
      "image/png": "[encoded data removed]",
      "text/plain": [
       "<Figure size 432x288 with 1 Axes>"
      ]
     },
     "metadata": {
      "needs_background": "light"
     },
     "output_type": "display_data"
    }
   ],
   "source": [
    "plot_qc_comparison(cells_df, \"sub_hyper\", bins=np.arange(11))"
   ]
  },
  {
   "cell_type": "code",
   "execution_count": 156,
   "metadata": {},
   "outputs": [
    {
     "data": {
      "image/png": "[encoded data removed]",
      "text/plain": [
       "<Figure size 432x288 with 1 Axes>"
      ]
     },
     "metadata": {
      "needs_background": "light"
     },
     "output_type": "display_data"
    }
   ],
   "source": [
    "plot_qc_comparison(cells_df, \"triblips\", bins=11*np.arange(5))"
   ]
  },
  {
   "cell_type": "code",
   "execution_count": 157,
   "metadata": {},
   "outputs": [
    {
     "data": {
      "image/png": "[encoded data removed]",
      "text/plain": [
       "<Figure size 432x288 with 1 Axes>"
      ]
     },
     "metadata": {
      "needs_background": "light"
     },
     "output_type": "display_data"
    }
   ],
   "source": [
    "plot_qc_comparison(cells_df, \"chirps\", bins=np.arange(11))"
   ]
  },
  {
   "cell_type": "markdown",
   "metadata": {},
   "source": [
    "## Plots of sweep counts by experiment date"
   ]
  },
  {
   "cell_type": "code",
   "execution_count": 41,
   "metadata": {
    "scrolled": true
   },
   "outputs": [
    {
     "data": {
      "image/png": "[encoded data removed]",
      "text/plain": [
       "<Figure size 432x288 with 1 Axes>"
      ]
     },
     "metadata": {
      "needs_background": "light"
     },
     "output_type": "display_data"
    }
   ],
   "source": [
    "import matplotlib.dates as mdates\n",
    "ax = sns.scatterplot(data=cells_df, x=\"created_at\", y=\"sub_depol\")\n",
    "ax = sns.scatterplot(data=cells_df, x=\"created_at\", y=\"sub_depol_passed\")\n",
    "ax.set_xlim(mdates.datetime.date(2017,6,1), mdates.datetime.date(2020,1,1))\n",
    "ax.xaxis.set_major_formatter(mdates.DateFormatter('%b %y'))"
   ]
  },
  {
   "cell_type": "code",
   "execution_count": 42,
   "metadata": {},
   "outputs": [
    {
     "data": {
      "image/png": "[encoded data removed]",
      "text/plain": [
       "<Figure size 432x288 with 1 Axes>"
      ]
     },
     "metadata": {
      "needs_background": "light"
     },
     "output_type": "display_data"
    }
   ],
   "source": [
    "import matplotlib.dates as mdates\n",
    "ax = sns.scatterplot(data=cells_df, x=\"created_at\", y=\"spiking\")\n",
    "ax = sns.scatterplot(data=cells_df, x=\"created_at\", y=\"spiking_passed\")\n",
    "ax.set_xlim(mdates.datetime.date(2017,6,1), mdates.datetime.date(2020,1,1))\n",
    "ax.xaxis.set_major_formatter(mdates.DateFormatter('%b %y'))"
   ]
  },
  {
   "cell_type": "code",
   "execution_count": 43,
   "metadata": {},
   "outputs": [
    {
     "data": {
      "image/png": "[encoded data removed]",
      "text/plain": [
       "<Figure size 432x288 with 1 Axes>"
      ]
     },
     "metadata": {
      "needs_background": "light"
     },
     "output_type": "display_data"
    }
   ],
   "source": [
    "import matplotlib.dates as mdates\n",
    "ax = sns.scatterplot(data=cells_df, x=\"created_at\", y=\"triblips\")\n",
    "ax = sns.scatterplot(data=cells_df, x=\"created_at\", y=\"triblips_passed\")\n",
    "ax.set_xlim(mdates.datetime.date(2017,6,1), mdates.datetime.date(2020,1,1))\n",
    "ax.xaxis.set_major_formatter(mdates.DateFormatter('%b %y'))"
   ]
  },
  {
   "cell_type": "markdown",
   "metadata": {},
   "source": [
    "## IPFX plot sweeps example\n",
    "\n",
    "Use to visualize examples with no spiking sweeps recorded, or QC fails"
   ]
  },
  {
   "cell_type": "code",
   "execution_count": 23,
   "metadata": {},
   "outputs": [],
   "source": [
    "from ipfx.aibs_data_set import AibsDataSet\n",
    "from ipfx.stimulus import StimulusOntology\n",
    "import ipfx.bin.lims_queries as lq\n",
    "import allensdk.core.json_utilities as ju"
   ]
  },
  {
   "cell_type": "code",
   "execution_count": 24,
   "metadata": {},
   "outputs": [],
   "source": [
    "cell_id = 695546566\n",
    "nwb_file = lq.get_input_nwb_file(cell_id)\n",
    "# nwb_file = lr.get_nwb_path_from_lims(cell_id)\n",
    "ontology = StimulusOntology(ju.read(StimulusOntology.DEFAULT_STIMULUS_ONTOLOGY_FILE))\n",
    "data_set = AibsDataSet(nwb_file=nwb_file, ontology=ontology)\n",
    "\n",
    "from ipfx.data_set_utils import create_data_set\n",
    "from ipfx.bin.plot_ephys_nwb import plot_data_set\n",
    "%matplotlib tk\n",
    "iclamp_sweep_table = data_set.sweep_table[data_set.sweep_table[\"clamp_mode\"] == \"CurrentClamp\"]\n",
    "plot_data_set(data_set, iclamp_sweep_table, nwb_file)\n",
    "# plt.show()"
   ]
  },
  {
   "cell_type": "code",
   "execution_count": 55,
   "metadata": {},
   "outputs": [],
   "source": [
    "sweep_table = data_set.sweep_table[data_set.sweep_table[\"clamp_mode\"] == \"VoltageClamp\"]\n",
    "plot_data_set(data_set, sweep_table, nwb_file)\n",
    "# plt.show()"
   ]
  }
 ],
 "metadata": {
  "kernelspec": {
   "display_name": "Python [conda env:ipfx3]",
   "language": "python",
   "name": "conda-env-ipfx3-py"
  },
  "language_info": {
   "codemirror_mode": {
    "name": "ipython",
    "version": 3
   },
   "file_extension": ".py",
   "mimetype": "text/x-python",
   "name": "python",
   "nbconvert_exporter": "python",
   "pygments_lexer": "ipython3",
   "version": "3.7.2"
  }
 },
 "nbformat": 4,
 "nbformat_minor": 2
}
