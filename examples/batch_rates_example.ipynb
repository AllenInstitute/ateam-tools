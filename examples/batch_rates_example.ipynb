{
 "cells": [
  {
   "cell_type": "code",
   "execution_count": 1,
   "metadata": {},
   "outputs": [
    {
     "name": "stdout",
     "output_type": "stream",
     "text": [
      "Warning: no edges have been made for this network, skipping saving.\n"
     ]
    }
   ],
   "source": [
    "import ateam.sim.setup.batch_builder as bb\n",
    "import ateam.sim.setup.default_props as defaults\n",
    "import ateam.sim.setup as sim\n",
    "import numpy as np\n",
    "%matplotlib inline\n",
    "\n",
    "# Don't use any lists!!\n",
    "edge_props = {\n",
    "    'nsyns': 50,\n",
    "    'syn_weight': 1e-5, \n",
    "    'distance_range_min': 0,\n",
    "    'distance_range_max': 200,\n",
    "    'delay': 0,\n",
    "    'target_sections': 'a',\n",
    "    'dynamics_params': 'AMPA_ExcToExc.json',\n",
    "    'model_template': 'exp2syn'\n",
    "}\n",
    "\n",
    "cell_id = 525133308\n",
    "# node_props = defaults.cellprops_active(cell_id)\n",
    "# The above probably won't work, may need to tweak the properties below,\n",
    "# especially filenames\n",
    "node_props = {\n",
    "        'cell_name': cell_id,\n",
    "        'morphology': '%s.swc' % cell_id,\n",
    "        'dynamics_params': 'optim_param_%s.json' % cell_id,\n",
    "        'model_type': 'biophysical',\n",
    "        'model_template': 'ctdb:Biophys1.hoc',\n",
    "        'model_processing': 'aibs_allactive'\n",
    "    }\n",
    "\n",
    "# Specify the sim folder and the template file (which will set the search path for param files)\n",
    "folder = './batch_rates'\n",
    "template = \"/allen/aibs/mat/tmchartrand/bmtk_networks/biophys_components_shared/default_config.json\"\n",
    "\n",
    "sm = sim.SimManager.from_template(config_template=template, overwrite=True, sim_folder=folder)\n",
    "\n",
    "distance_list = np.linspace(0, 350, 5)\n",
    "interval = 10\n",
    "linked_edge_props = {'distance_range_min':distance_list, 'distance_range_max':distance_list+interval}\n",
    "\n",
    "input_props = {'input_rate': np.linspace(1, 4000, 10)}\n",
    "\n",
    "net = bb.build_batch_all(sm, node_props, edge_props, input_props, n_duplicates=4)"
   ]
  },
  {
   "cell_type": "code",
   "execution_count": null,
   "metadata": {
    "scrolled": true
   },
   "outputs": [],
   "source": [
    "sm.run_bionet_mpi(ncores=4)"
   ]
  },
  {
   "cell_type": "code",
   "execution_count": null,
   "metadata": {},
   "outputs": [],
   "source": [
    "import pandas as pd\n",
    "import ateam.analysis.spikes as spikes\n",
    "import matplotlib.pyplot as plt\n",
    "\n",
    "nodes_df = bb.read_node_props_batch(sm.sim_folder)\n",
    "nodes_df = nodes_df.join(pd.Series(spikes.get_rates_config(sm.config_path), name='out_rate'))\n",
    "df_agg = nodes_df.groupby('input_rate').agg(['mean','std'])\n",
    "df_agg['out_rate'].dropna().plot(y='mean', yerr='std')\n",
    "plt.axis(xmin=0, ymin=0)\n",
    "plt.show()"
   ]
  },
  {
   "cell_type": "code",
   "execution_count": 2,
   "metadata": {},
   "outputs": [
    {
     "data": {
      "image/png": "[encoded data removed]",
      "text/plain": [
       "<Figure size 432x288 with 2 Axes>"
      ]
     },
     "metadata": {
      "needs_background": "light"
     },
     "output_type": "display_data"
    },
    {
     "data": {
      "image/png": "[encoded data removed]",
      "text/plain": [
       "<Figure size 432x288 with 1 Axes>"
      ]
     },
     "metadata": {
      "needs_background": "light"
     },
     "output_type": "display_data"
    },
    {
     "data": {
      "image/png": "[encoded data removed]",
      "text/plain": [
       "<Figure size 432x288 with 1 Axes>"
      ]
     },
     "metadata": {
      "needs_background": "light"
     },
     "output_type": "display_data"
    }
   ],
   "source": [
    "netname = 'batch'\n",
    "sm.plot_raster(netname)\n",
    "sm.plot_rates(netname)"
   ]
  }
 ],
 "metadata": {
  "kernelspec": {
   "display_name": "Python [conda env:bmtk]",
   "language": "python",
   "name": "conda-env-bmtk-py"
  },
  "language_info": {
   "codemirror_mode": {
    "name": "ipython",
    "version": 2
   },
   "file_extension": ".py",
   "mimetype": "text/x-python",
   "name": "python",
   "nbconvert_exporter": "python",
   "pygments_lexer": "ipython2",
   "version": "2.7.15"
  }
 },
 "nbformat": 4,
 "nbformat_minor": 2
}
