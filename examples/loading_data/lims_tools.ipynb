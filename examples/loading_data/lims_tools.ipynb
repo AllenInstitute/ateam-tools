{
 "cells": [
  {
   "cell_type": "markdown",
   "metadata": {},
   "source": [
    "If this import doesn't work, you need to install a few packages for reading SQL databases. Try running:\n",
    "\n",
    "`pip install -e path/to/ateam-tools[lims]` in your Conda environment of choice."
   ]
  },
  {
   "cell_type": "markdown",
   "metadata": {},
   "source": [
    "We create an instance of the LimsReader class that we call other methods from, so it can hold onto the database connection."
   ]
  },
  {
   "cell_type": "code",
   "execution_count": 1,
   "metadata": {},
   "outputs": [],
   "source": [
    "import ateam.data.lims as lims\n",
    "\n",
    "lr = lims.LimsReader()"
   ]
  },
  {
   "cell_type": "markdown",
   "metadata": {},
   "source": [
    "## Cell information"
   ]
  },
  {
   "cell_type": "markdown",
   "metadata": {},
   "source": [
    "We'll start with a cell in the original human IVSCC database (released in the web product)."
   ]
  },
  {
   "cell_type": "code",
   "execution_count": 2,
   "metadata": {},
   "outputs": [
    {
     "data": {
      "text/html": [
       "<div>\n",
       "<style scoped>\n",
       "    .dataframe tbody tr th:only-of-type {\n",
       "        vertical-align: middle;\n",
       "    }\n",
       "\n",
       "    .dataframe tbody tr th {\n",
       "        vertical-align: top;\n",
       "    }\n",
       "\n",
       "    .dataframe thead th {\n",
       "        text-align: right;\n",
       "    }\n",
       "</style>\n",
       "<table border=\"1\" class=\"dataframe\">\n",
       "  <thead>\n",
       "    <tr style=\"text-align: right;\">\n",
       "      <th></th>\n",
       "      <th>name</th>\n",
       "      <th>normalized_depth</th>\n",
       "      <th>soma_depth_um</th>\n",
       "      <th>structure</th>\n",
       "      <th>donor_name</th>\n",
       "      <th>dendrite_type</th>\n",
       "      <th>layer</th>\n",
       "      <th>project_code</th>\n",
       "      <th>nwb_path</th>\n",
       "    </tr>\n",
       "    <tr>\n",
       "      <th>id</th>\n",
       "      <th></th>\n",
       "      <th></th>\n",
       "      <th></th>\n",
       "      <th></th>\n",
       "      <th></th>\n",
       "      <th></th>\n",
       "      <th></th>\n",
       "      <th></th>\n",
       "      <th></th>\n",
       "    </tr>\n",
       "  </thead>\n",
       "  <tbody>\n",
       "    <tr>\n",
       "      <th>525133308</th>\n",
       "      <td>H16.03.003.01.18.01</td>\n",
       "      <td>0.098971</td>\n",
       "      <td>314.760417</td>\n",
       "      <td>frontal lobe</td>\n",
       "      <td>H16.03.003</td>\n",
       "      <td>dendrite type - spiny</td>\n",
       "      <td>Layer 2</td>\n",
       "      <td>H301</td>\n",
       "      <td>/allen/programs/celltypes/production/mousecell...</td>\n",
       "    </tr>\n",
       "  </tbody>\n",
       "</table>\n",
       "</div>"
      ],
      "text/plain": [
       "                          name  normalized_depth  soma_depth_um     structure  \\\n",
       "id                                                                              \n",
       "525133308  H16.03.003.01.18.01          0.098971     314.760417  frontal lobe   \n",
       "\n",
       "           donor_name          dendrite_type    layer project_code  \\\n",
       "id                                                                   \n",
       "525133308  H16.03.003  dendrite type - spiny  Layer 2         H301   \n",
       "\n",
       "                                                    nwb_path  \n",
       "id                                                            \n",
       "525133308  /allen/programs/celltypes/production/mousecell...  "
      ]
     },
     "execution_count": 2,
     "metadata": {},
     "output_type": "execute_result"
    }
   ],
   "source": [
    "cell_id = 525133308\n",
    "lr.get_cells_df(cells_list=[cell_id])"
   ]
  },
  {
   "cell_type": "markdown",
   "metadata": {},
   "source": [
    "Get paths to nwb files (real and simulated):"
   ]
  },
  {
   "cell_type": "code",
   "execution_count": 4,
   "metadata": {
    "scrolled": true
   },
   "outputs": [
    {
     "data": {
      "text/plain": [
       "u'/allen/programs/celltypes/production/mousecelltypes/prod781/Ephys_Roi_Result_525133088/525133088.nwb'"
      ]
     },
     "execution_count": 4,
     "metadata": {},
     "output_type": "execute_result"
    }
   ],
   "source": [
    "lr.get_nwb_path_from_lims(cell_id)"
   ]
  },
  {
   "cell_type": "code",
   "execution_count": 13,
   "metadata": {},
   "outputs": [
    {
     "data": {
      "text/plain": [
       "u'/allen/programs/celltypes/production/humancelltypes/prod218/neuronal_model_run_628879665/628879665_virtual_experiment.nwb'"
      ]
     },
     "execution_count": 13,
     "metadata": {},
     "output_type": "execute_result"
    }
   ],
   "source": [
    "lr.get_sim_nwb_path_from_lims(cell_id, model_type='peri')"
   ]
  },
  {
   "cell_type": "markdown",
   "metadata": {},
   "source": [
    "And the paths to existing model files (active or perisomatic)"
   ]
  },
  {
   "cell_type": "code",
   "execution_count": 10,
   "metadata": {
    "scrolled": true
   },
   "outputs": [
    {
     "data": {
      "text/plain": [
       "u'/allen/programs/celltypes/production/humancelltypes/prod218/neuronal_model_556384280/525133308_fit.json'"
      ]
     },
     "execution_count": 10,
     "metadata": {},
     "output_type": "execute_result"
    }
   ],
   "source": [
    "lr.get_model_path_from_lims(cell_id)"
   ]
  },
  {
   "cell_type": "code",
   "execution_count": 12,
   "metadata": {
    "scrolled": true
   },
   "outputs": [
    {
     "data": {
      "text/plain": [
       "u'/allen/programs/celltypes/production/humancelltypes/prod55/specimen_525133308/H16.03.003.01.18.01_667327857_m.swc'"
      ]
     },
     "execution_count": 12,
     "metadata": {},
     "output_type": "execute_result"
    }
   ],
   "source": [
    "lr.get_swc_path_from_lims(cell_id)"
   ]
  },
  {
   "cell_type": "markdown",
   "metadata": {},
   "source": [
    "### Get data table for a list of cells (or by project, etc.):"
   ]
  },
  {
   "cell_type": "markdown",
   "metadata": {},
   "source": [
    "Unfortunately you can see here that some MET cells don't have dendrite type in LIMS yet:"
   ]
  },
  {
   "cell_type": "code",
   "execution_count": 14,
   "metadata": {},
   "outputs": [
    {
     "data": {
      "text/html": [
       "<div>\n",
       "<style scoped>\n",
       "    .dataframe tbody tr th:only-of-type {\n",
       "        vertical-align: middle;\n",
       "    }\n",
       "\n",
       "    .dataframe tbody tr th {\n",
       "        vertical-align: top;\n",
       "    }\n",
       "\n",
       "    .dataframe thead th {\n",
       "        text-align: right;\n",
       "    }\n",
       "</style>\n",
       "<table border=\"1\" class=\"dataframe\">\n",
       "  <thead>\n",
       "    <tr style=\"text-align: right;\">\n",
       "      <th></th>\n",
       "      <th>name</th>\n",
       "      <th>normalized_depth</th>\n",
       "      <th>soma_depth_um</th>\n",
       "      <th>structure</th>\n",
       "      <th>donor_name</th>\n",
       "      <th>dendrite_type</th>\n",
       "      <th>layer</th>\n",
       "      <th>project_code</th>\n",
       "      <th>nwb_path</th>\n",
       "    </tr>\n",
       "    <tr>\n",
       "      <th>id</th>\n",
       "      <th></th>\n",
       "      <th></th>\n",
       "      <th></th>\n",
       "      <th></th>\n",
       "      <th></th>\n",
       "      <th></th>\n",
       "      <th></th>\n",
       "      <th></th>\n",
       "      <th></th>\n",
       "    </tr>\n",
       "  </thead>\n",
       "  <tbody>\n",
       "    <tr>\n",
       "      <th>760398902</th>\n",
       "      <td>H18.06.365.11.08.01.01</td>\n",
       "      <td>None</td>\n",
       "      <td>None</td>\n",
       "      <td>Primary visual area</td>\n",
       "      <td>H18.06.365</td>\n",
       "      <td>None</td>\n",
       "      <td>None</td>\n",
       "      <td>hIVSCC-MET</td>\n",
       "      <td>/allen/programs/celltypes/production/humancell...</td>\n",
       "    </tr>\n",
       "    <tr>\n",
       "      <th>770330029</th>\n",
       "      <td>H18.03.319.11.18.01.07</td>\n",
       "      <td>None</td>\n",
       "      <td>None</td>\n",
       "      <td>None</td>\n",
       "      <td>H18.03.319</td>\n",
       "      <td>None</td>\n",
       "      <td>Layer 5</td>\n",
       "      <td>hIVSCC-MET</td>\n",
       "      <td>/allen/programs/celltypes/production/humancell...</td>\n",
       "    </tr>\n",
       "  </tbody>\n",
       "</table>\n",
       "</div>"
      ],
      "text/plain": [
       "                             name normalized_depth soma_depth_um  \\\n",
       "id                                                                 \n",
       "760398902  H18.06.365.11.08.01.01             None          None   \n",
       "770330029  H18.03.319.11.18.01.07             None          None   \n",
       "\n",
       "                     structure  donor_name dendrite_type    layer  \\\n",
       "id                                                                  \n",
       "760398902  Primary visual area  H18.06.365          None     None   \n",
       "770330029                 None  H18.03.319          None  Layer 5   \n",
       "\n",
       "          project_code                                           nwb_path  \n",
       "id                                                                         \n",
       "760398902   hIVSCC-MET  /allen/programs/celltypes/production/humancell...  \n",
       "770330029   hIVSCC-MET  /allen/programs/celltypes/production/humancell...  "
      ]
     },
     "execution_count": 14,
     "metadata": {},
     "output_type": "execute_result"
    }
   ],
   "source": [
    "cell_dataframe = lr.get_cells_df(project_id=None, project_code='hIVSCC-MET', cells_list=['760398902','770330029'])\n",
    "cell_dataframe.head()"
   ]
  },
  {
   "cell_type": "markdown",
   "metadata": {},
   "source": [
    "## Sweep information"
   ]
  },
  {
   "cell_type": "markdown",
   "metadata": {},
   "source": [
    "We can also get the sweep numbers to use for accessing data in the NWB:"
   ]
  },
  {
   "cell_type": "code",
   "execution_count": 15,
   "metadata": {},
   "outputs": [
    {
     "data": {
      "text/html": [
       "<div>\n",
       "<style scoped>\n",
       "    .dataframe tbody tr th:only-of-type {\n",
       "        vertical-align: middle;\n",
       "    }\n",
       "\n",
       "    .dataframe tbody tr th {\n",
       "        vertical-align: top;\n",
       "    }\n",
       "\n",
       "    .dataframe thead th {\n",
       "        text-align: right;\n",
       "    }\n",
       "</style>\n",
       "<table border=\"1\" class=\"dataframe\">\n",
       "  <thead>\n",
       "    <tr style=\"text-align: right;\">\n",
       "      <th></th>\n",
       "      <th>workflow_state</th>\n",
       "      <th>name</th>\n",
       "      <th>description</th>\n",
       "    </tr>\n",
       "    <tr>\n",
       "      <th>sweep_number</th>\n",
       "      <th></th>\n",
       "      <th></th>\n",
       "      <th></th>\n",
       "    </tr>\n",
       "  </thead>\n",
       "  <tbody>\n",
       "    <tr>\n",
       "      <th>38</th>\n",
       "      <td>auto_failed</td>\n",
       "      <td>Long Square</td>\n",
       "      <td>C1LSCOARSE150216[0]</td>\n",
       "    </tr>\n",
       "    <tr>\n",
       "      <th>41</th>\n",
       "      <td>auto_failed</td>\n",
       "      <td>Long Square</td>\n",
       "      <td>C1LSCOARSE150216[3]</td>\n",
       "    </tr>\n",
       "    <tr>\n",
       "      <th>43</th>\n",
       "      <td>auto_failed</td>\n",
       "      <td>Long Square</td>\n",
       "      <td>C1LSCOARSE150216[5]</td>\n",
       "    </tr>\n",
       "    <tr>\n",
       "      <th>48</th>\n",
       "      <td>auto_passed</td>\n",
       "      <td>Long Square</td>\n",
       "      <td>C1LSCOARSE150216[10]</td>\n",
       "    </tr>\n",
       "    <tr>\n",
       "      <th>54</th>\n",
       "      <td>auto_passed</td>\n",
       "      <td>Long Square</td>\n",
       "      <td>C1LSCOARSE150216[16]</td>\n",
       "    </tr>\n",
       "  </tbody>\n",
       "</table>\n",
       "</div>"
      ],
      "text/plain": [
       "             workflow_state         name           description\n",
       "sweep_number                                                  \n",
       "38              auto_failed  Long Square   C1LSCOARSE150216[0]\n",
       "41              auto_failed  Long Square   C1LSCOARSE150216[3]\n",
       "43              auto_failed  Long Square   C1LSCOARSE150216[5]\n",
       "48              auto_passed  Long Square  C1LSCOARSE150216[10]\n",
       "54              auto_passed  Long Square  C1LSCOARSE150216[16]"
      ]
     },
     "execution_count": 15,
     "metadata": {},
     "output_type": "execute_result"
    }
   ],
   "source": [
    "sweep_type = 'Long Square'\n",
    "sweep_table = lr.get_sweep_info(cell_id, sweep_type)\n",
    "sweep_table.head()"
   ]
  },
  {
   "cell_type": "code",
   "execution_count": 16,
   "metadata": {},
   "outputs": [
    {
     "data": {
      "text/plain": [
       "[48, 54, 55, 57, 56, 51, 46, 45, 40, 39, 50, 49, 58, 59, 60, 44, 47, 42]"
      ]
     },
     "execution_count": 16,
     "metadata": {},
     "output_type": "execute_result"
    }
   ],
   "source": [
    "# or can output the sweep numbers directly as a list\n",
    "lr.get_sweeps(cell_id, sweep_type, passed_only=True)"
   ]
  },
  {
   "cell_type": "markdown",
   "metadata": {},
   "source": [
    "This should be called with `sweep_type` as one of the following types:"
   ]
  },
  {
   "cell_type": "code",
   "execution_count": 17,
   "metadata": {},
   "outputs": [
    {
     "data": {
      "text/plain": [
       "[u'Test',\n",
       " u'Short Square',\n",
       " u'Short Square - Hold -80mV',\n",
       " u'Short Square - Hold -60mV',\n",
       " u'Long Square',\n",
       " u'Ramp',\n",
       " u'Noise 1',\n",
       " u'Noise 2',\n",
       " u'Square - 0.5ms Subthreshold',\n",
       " u'Ramp to Rheobase',\n",
       " u'Short Square - Triple',\n",
       " u'Short Square - Hold -70mV',\n",
       " u'Unknown',\n",
       " u'Square - 2s Suprathreshold',\n",
       " u'Search']"
      ]
     },
     "execution_count": 17,
     "metadata": {},
     "output_type": "execute_result"
    }
   ],
   "source": [
    "lr.list_sweep_types()"
   ]
  }
 ],
 "metadata": {
  "kernelspec": {
   "display_name": "Python [conda env:allensdk]",
   "language": "python",
   "name": "conda-env-allensdk-py"
  },
  "language_info": {
   "codemirror_mode": {
    "name": "ipython",
    "version": 2
   },
   "file_extension": ".py",
   "mimetype": "text/x-python",
   "name": "python",
   "nbconvert_exporter": "python",
   "pygments_lexer": "ipython2",
   "version": "2.7.15"
  }
 },
 "nbformat": 4,
 "nbformat_minor": 2
}
